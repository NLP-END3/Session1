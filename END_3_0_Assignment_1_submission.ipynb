{
  "nbformat": 4,
  "nbformat_minor": 2,
  "metadata": {
    "colab": {
      "name": "END 3.0 Assignment 1 submission.ipynb",
      "provenance": [],
      "collapsed_sections": []
    },
    "kernelspec": {
      "name": "python3",
      "display_name": "Python 3"
    },
    "language_info": {
      "name": "python"
    }
  },
  "cells": [
    {
      "cell_type": "code",
      "execution_count": null,
      "source": [
        "import torch\r\n",
        "from torch.autograd import Variable\r\n",
        "import torch.nn as nn\r\n",
        "import torch.nn.functional as F\r\n",
        "import torch.optim as optim\r\n",
        "import numpy as np\r\n",
        "import matplotlib.pyplot as plt\r\n",
        "%matplotlib inline\r\n",
        "torch.manual_seed(2)"
      ],
      "outputs": [
        {
          "output_type": "execute_result",
          "data": {
            "text/plain": [
              "<torch._C.Generator at 0x7f00f9cabab0>"
            ]
          },
          "metadata": {},
          "execution_count": 2
        }
      ],
      "metadata": {
        "colab": {
          "base_uri": "https://localhost:8080/"
        },
        "id": "GC_6PeobwwkH",
        "outputId": "612024a5-ac82-4132-ec5f-d9dc7fe4301a"
      }
    },
    {
      "cell_type": "code",
      "execution_count": null,
      "source": [
        "X = torch.Tensor([[0,0], [0,1], [1,0], [1,1]])\r\n",
        "Y = torch.Tensor([0, 1, 1, 0]).view(-1,1)"
      ],
      "outputs": [],
      "metadata": {
        "id": "bL64bMTkw2GP"
      }
    },
    {
      "cell_type": "markdown",
      "source": [
        "# Xor Gate Inmplementation Technique 1"
      ],
      "metadata": {
        "id": "pj-BALxzPc7R"
      }
    },
    {
      "cell_type": "markdown",
      "source": [
        "**Function involves minimalistic changes from assignment \n",
        "\n",
        "\n",
        "> 1.   As per assignment directive we have to remove the final layer with TanH. \n",
        "> 2.   It has 11 filters/Kernel instead of 2 from original architecture\n",
        "> 3.   Also the Bias is kept only on first layer to account for scenario wherein both inputs are 0 .\n",
        "4. Bias for second layer is more or less redundant hence turned off \n",
        "\n",
        "1. ***Activation function*** -> TanH \n",
        "2. ***Number of parameters*** -> 44**"
      ],
      "metadata": {
        "id": "8jfLgZW6PndR"
      }
    },
    {
      "cell_type": "code",
      "execution_count": null,
      "source": [
        "import torch.nn as nn \r\n",
        "class XOR(nn.Module):\r\n",
        "    def __init__(self, input_dim = 2, output_dim=1):\r\n",
        "        super(XOR, self).__init__()\r\n",
        "        self.lin1 = nn.Linear(input_dim, 11)\r\n",
        "        self.lin2 = nn.Linear(11, output_dim,bias=False)\r\n",
        "    \r\n",
        "    def forward(self, x):\r\n",
        "        x = self.lin1(x)\r\n",
        "        x = F.tanh(x)\r\n",
        "        x = self.lin2(x)\r\n",
        "        # x = F.tanh(x)\r\n",
        "        return x\r\n",
        "\r\n",
        "model_tanH = XOR()\r\n",
        "print(model_tanH)\r\n",
        "from torchsummary import summary\r\n",
        "summary(model_tanH, (2,2))"
      ],
      "outputs": [
        {
          "output_type": "stream",
          "name": "stdout",
          "text": [
            "XOR(\n",
            "  (lin1): Linear(in_features=2, out_features=11, bias=True)\n",
            "  (lin2): Linear(in_features=11, out_features=1, bias=False)\n",
            ")\n",
            "----------------------------------------------------------------\n",
            "        Layer (type)               Output Shape         Param #\n",
            "================================================================\n",
            "            Linear-1                [-1, 2, 11]              33\n",
            "            Linear-2                 [-1, 2, 1]              11\n",
            "================================================================\n",
            "Total params: 44\n",
            "Trainable params: 44\n",
            "Non-trainable params: 0\n",
            "----------------------------------------------------------------\n",
            "Input size (MB): 0.00\n",
            "Forward/backward pass size (MB): 0.00\n",
            "Params size (MB): 0.00\n",
            "Estimated Total Size (MB): 0.00\n",
            "----------------------------------------------------------------\n"
          ]
        },
        {
          "output_type": "stream",
          "name": "stderr",
          "text": [
            "/usr/local/lib/python3.7/dist-packages/torch/nn/functional.py:1794: UserWarning: nn.functional.tanh is deprecated. Use torch.tanh instead.\n",
            "  warnings.warn(\"nn.functional.tanh is deprecated. Use torch.tanh instead.\")\n"
          ]
        }
      ],
      "metadata": {
        "id": "aC82kEAIw3Wf",
        "colab": {
          "base_uri": "https://localhost:8080/"
        },
        "outputId": "b91004c9-1434-464f-887d-645e3b637c35"
      }
    },
    {
      "cell_type": "markdown",
      "source": [
        "**Training overview **\n",
        "\n",
        "1.   **Epochs -> 2001**\n",
        "2.   **Loss function -> L1 loss (original function )**\n",
        "3.   **Learning Rate -> 0.03**\n",
        "\n"
      ],
      "metadata": {
        "id": "4KO_SngLRIJ6"
      }
    },
    {
      "cell_type": "code",
      "execution_count": null,
      "source": [
        "epochs = 2001\n",
        "L1loss = nn.L1Loss()\n",
        "model= model_tanH\n",
        "optimizer = torch.optim.Adam(model.parameters(), lr = 0.03)\n",
        "all_losses = []\n",
        "current_loss = 0\n",
        "plot_every = 50\n",
        "\n",
        "for epoch in range(epochs):\n",
        "\n",
        "  # input training example and return the prediction\n",
        "  yhat = model.forward(X)\n",
        "  \n",
        "  # calculate  loss\n",
        "  loss = L1loss(yhat, Y)\n",
        "  \n",
        "  # backpropogate through the loss gradiants\n",
        "  loss.backward()\n",
        "\n",
        "  # update model weights\n",
        "  optimizer.step()\n",
        "\n",
        "  # remove current gradients for next iteration\n",
        "  optimizer.zero_grad()\n",
        "\n",
        "  # append to loss\n",
        "  current_loss += loss\n",
        "  if epoch % plot_every == 0:\n",
        "      all_losses.append(current_loss / plot_every)\n",
        "      current_loss = 0\n",
        "  \n",
        "  # print progress\n",
        "  if epoch % 500 == 0:\n",
        "    print(f'Epoch: {epoch} completed')"
      ],
      "outputs": [
        {
          "output_type": "stream",
          "name": "stderr",
          "text": [
            "/usr/local/lib/python3.7/dist-packages/torch/nn/functional.py:1794: UserWarning: nn.functional.tanh is deprecated. Use torch.tanh instead.\n",
            "  warnings.warn(\"nn.functional.tanh is deprecated. Use torch.tanh instead.\")\n"
          ]
        },
        {
          "output_type": "stream",
          "name": "stdout",
          "text": [
            "Epoch: 0 completed\n",
            "Epoch: 500 completed\n",
            "Epoch: 1000 completed\n",
            "Epoch: 1500 completed\n",
            "Epoch: 2000 completed\n"
          ]
        }
      ],
      "metadata": {
        "id": "z74l1tIZBUnv",
        "colab": {
          "base_uri": "https://localhost:8080/"
        },
        "outputId": "ee658eed-a4f5-4a69-add4-77265051a39a"
      }
    },
    {
      "cell_type": "code",
      "execution_count": null,
      "source": [
        "import matplotlib.pyplot as plt\n",
        "plt.plot(all_losses)\n",
        "plt.ylabel('Loss')\n",
        "plt.show()"
      ],
      "outputs": [
        {
          "output_type": "display_data",
          "data": {
            "image/png": "[encoded data removed]",
            "text/plain": [
              "<Figure size 432x288 with 1 Axes>"
            ]
          },
          "metadata": {
            "needs_background": "light"
          }
        }
      ],
      "metadata": {
        "id": "YPlBHssbB61i",
        "colab": {
          "base_uri": "https://localhost:8080/",
          "height": 265
        },
        "outputId": "20e9eb7a-70f2-4dbc-ccdb-7ffd3a02fe77"
      }
    },
    {
      "cell_type": "code",
      "execution_count": null,
      "source": [
        "# show weights and bias\n",
        "for name, param in model.named_parameters():\n",
        "    if param.requires_grad:\n",
        "        print(name, param.data)"
      ],
      "outputs": [
        {
          "output_type": "stream",
          "name": "stdout",
          "text": [
            "lin1.weight tensor([[-1.5208e+00, -2.0006e+00],\n",
            "        [-1.5964e-07, -1.2799e-07],\n",
            "        [-1.1001e+00,  2.6051e+00],\n",
            "        [-1.9676e-04,  2.6334e-03],\n",
            "        [ 1.8173e+00,  2.2731e+00],\n",
            "        [ 5.1278e-01,  5.6524e-02],\n",
            "        [-1.2326e+00, -4.2566e-01],\n",
            "        [-2.3989e+00, -2.7036e+00],\n",
            "        [-2.1762e-02, -1.2499e-02],\n",
            "        [-2.3030e-08, -2.2871e-08],\n",
            "        [ 1.4397e+00, -2.2079e-01]])\n",
            "lin1.bias tensor([-2.8421e-02, -1.5363e-08,  4.2137e-01, -1.7499e-03, -6.4409e-02,\n",
            "        -2.9361e-01,  8.4938e-01,  3.8597e-01,  2.4092e-02, -1.5308e-09,\n",
            "        -2.7508e-01])\n",
            "lin2.weight tensor([[-2.5552e-01, -3.8815e-09, -6.1091e-01, -3.0734e-05,  4.2372e-01,\n",
            "         -7.4945e-02,  4.9904e-01, -5.5542e-01,  2.1959e-04, -5.9598e-09,\n",
            "         -4.0211e-01]])\n"
          ]
        }
      ],
      "metadata": {
        "id": "7t3CnO1QCGUU",
        "colab": {
          "base_uri": "https://localhost:8080/"
        },
        "outputId": "d3f6dc9c-b2c8-4977-8c2b-dcfeb3bf7cdc"
      }
    },
    {
      "cell_type": "code",
      "execution_count": null,
      "source": [
        "# test input\n",
        "input = torch.tensor([1., 0.])\n",
        "out = model(input)\n",
        "print(out.round())\n",
        "\n",
        "input = torch.tensor([0., 1.])\n",
        "out = model(input)\n",
        "print(out.round())\n",
        "\n",
        "input = torch.tensor([1., 1.])\n",
        "out = model(input)\n",
        "print(out.round())\n",
        "\n",
        "input = torch.tensor([0., 0.])\n",
        "out = model(input)\n",
        "print(out.round())"
      ],
      "outputs": [
        {
          "output_type": "stream",
          "name": "stdout",
          "text": [
            "tensor([1.], grad_fn=<RoundBackward>)\n",
            "tensor([1.], grad_fn=<RoundBackward>)\n",
            "tensor([-0.], grad_fn=<RoundBackward>)\n",
            "tensor([0.], grad_fn=<RoundBackward>)\n"
          ]
        },
        {
          "output_type": "stream",
          "name": "stderr",
          "text": [
            "/usr/local/lib/python3.7/dist-packages/torch/nn/functional.py:1794: UserWarning: nn.functional.tanh is deprecated. Use torch.tanh instead.\n",
            "  warnings.warn(\"nn.functional.tanh is deprecated. Use torch.tanh instead.\")\n"
          ]
        }
      ],
      "metadata": {
        "id": "37m6LKkcCLLR",
        "colab": {
          "base_uri": "https://localhost:8080/"
        },
        "outputId": "b1a875a7-7972-4289-a6c6-f44c104ced8f"
      }
    },
    {
      "cell_type": "markdown",
      "source": [
        "**So we see for input 0,0 we get output of -0 **\n",
        "\n",
        "\n",
        "> So we try 2 approaches :\n",
        "  1. We will first change the loss function as L1 loss is designed to penalize the residuals. So we replace it with the most simplistic MSE loss function which is differentiable as well \n",
        "  2. If that does not work we will try to replace Activation function from TanH to Sigmoid whose non linear output values always lies between 0 to 1 . We will not go with RELU because We have first off binary input and a single logic output. \n",
        "\n"
      ],
      "metadata": {
        "id": "Pj8hM0ebUP0z"
      }
    },
    {
      "cell_type": "code",
      "execution_count": null,
      "source": [
        "epochs = 2001\n",
        "mseloss = nn.MSELoss()\n",
        "model= model_tanH\n",
        "optimizer = torch.optim.Adam(model.parameters(), lr = 0.03)\n",
        "all_losses = []\n",
        "current_loss = 0\n",
        "plot_every = 50\n",
        "\n",
        "for epoch in range(epochs):\n",
        "\n",
        "  # input training example and return the prediction\n",
        "  yhat = model.forward(X)\n",
        "  \n",
        "  # calculate  loss\n",
        "  loss = mseloss(yhat, Y)\n",
        "  \n",
        "  # backpropogate through the loss gradiants\n",
        "  loss.backward()\n",
        "\n",
        "  # update model weights\n",
        "  optimizer.step()\n",
        "\n",
        "  # remove current gradients for next iteration\n",
        "  optimizer.zero_grad()\n",
        "\n",
        "  # append to loss\n",
        "  current_loss += loss\n",
        "  if epoch % plot_every == 0:\n",
        "      all_losses.append(current_loss / plot_every)\n",
        "      current_loss = 0\n",
        "  \n",
        "  # print progress\n",
        "  if epoch % 500 == 0:\n",
        "    print(f'Epoch: {epoch} completed')\n",
        "\n",
        "import matplotlib.pyplot as plt\n",
        "plt.plot(all_losses)\n",
        "plt.ylabel('Loss')\n",
        "plt.show()\n",
        "\n",
        "# test input\n",
        "input = torch.tensor([1., 0.])\n",
        "out = model(input)\n",
        "print(out.round())\n",
        "\n",
        "input = torch.tensor([0., 1.])\n",
        "out = model(input)\n",
        "print(out.round())\n",
        "\n",
        "input = torch.tensor([1., 1.])\n",
        "out = model(input)\n",
        "print(out.round())\n",
        "\n",
        "input = torch.tensor([0., 0.])\n",
        "out = model(input)\n",
        "print(out.round())"
      ],
      "outputs": [
        {
          "output_type": "stream",
          "name": "stderr",
          "text": [
            "/usr/local/lib/python3.7/dist-packages/torch/nn/functional.py:1794: UserWarning: nn.functional.tanh is deprecated. Use torch.tanh instead.\n",
            "  warnings.warn(\"nn.functional.tanh is deprecated. Use torch.tanh instead.\")\n"
          ]
        },
        {
          "output_type": "stream",
          "name": "stdout",
          "text": [
            "Epoch: 0 completed\n",
            "Epoch: 500 completed\n",
            "Epoch: 1000 completed\n",
            "Epoch: 1500 completed\n",
            "Epoch: 2000 completed\n"
          ]
        },
        {
          "output_type": "display_data",
          "data": {
            "image/png": "[encoded data removed]",
            "text/plain": [
              "<Figure size 432x288 with 1 Axes>"
            ]
          },
          "metadata": {
            "needs_background": "light"
          }
        },
        {
          "output_type": "stream",
          "name": "stdout",
          "text": [
            "tensor([1.], grad_fn=<RoundBackward>)\n",
            "tensor([1.], grad_fn=<RoundBackward>)\n",
            "tensor([0.], grad_fn=<RoundBackward>)\n",
            "tensor([0.], grad_fn=<RoundBackward>)\n"
          ]
        }
      ],
      "metadata": {
        "colab": {
          "base_uri": "https://localhost:8080/",
          "height": 450
        },
        "id": "joFmm7W7VQHO",
        "outputId": "8009270f-ee27-4ea4-cff0-3650070a43db"
      }
    },
    {
      "cell_type": "markdown",
      "source": [
        "\n",
        "\n",
        "> **So simply changing the Loss function did not do good but it definitely smoothned the loss graph vs epoch bins so our estimation to use MSE loss was partly right**\n",
        "\n",
        "**Next Step ** ->\n",
        " \n",
        "> **We change the activation function in the model itself from TanH to Sigmoid**\n",
        "\n",
        "\n",
        "\n"
      ],
      "metadata": {
        "id": "8aDFZCMOVzXL"
      }
    },
    {
      "cell_type": "code",
      "execution_count": null,
      "source": [
        "import torch.nn as nn \n",
        "class XOR(nn.Module):\n",
        "    def __init__(self, input_dim = 2, output_dim=1):\n",
        "        super(XOR, self).__init__()\n",
        "        self.lin1 = nn.Linear(input_dim, 11)\n",
        "        self.lin2 = nn.Linear(11, output_dim,bias=False)\n",
        "    \n",
        "    def forward(self, x):\n",
        "        x = self.lin1(x)\n",
        "        x = F.sigmoid(x)\n",
        "        x = self.lin2(x)\n",
        "        # x = F.sigmoid(x)\n",
        "        return x\n",
        "\n",
        "model_sig = XOR()\n",
        "print(model_sig)\n",
        "from torchsummary import summary\n",
        "summary(model_sig, (2,2))\n",
        "\n",
        "epochs = 2001\n",
        "mseloss = nn.MSELoss()\n",
        "model= model_sig\n",
        "optimizer = torch.optim.Adam(model.parameters(), lr = 0.03)\n",
        "all_losses = []\n",
        "current_loss = 0\n",
        "plot_every = 50\n",
        "\n",
        "for epoch in range(epochs):\n",
        "\n",
        "  # input training example and return the prediction\n",
        "  yhat = model.forward(X)\n",
        "  \n",
        "  # calculate  loss\n",
        "  loss = mseloss(yhat, Y)\n",
        "  \n",
        "  # backpropogate through the loss gradiants\n",
        "  loss.backward()\n",
        "\n",
        "  # update model weights\n",
        "  optimizer.step()\n",
        "\n",
        "  # remove current gradients for next iteration\n",
        "  optimizer.zero_grad()\n",
        "\n",
        "  # append to loss\n",
        "  current_loss += loss\n",
        "  if epoch % plot_every == 0:\n",
        "      all_losses.append(current_loss / plot_every)\n",
        "      current_loss = 0\n",
        "  \n",
        "  # print progress\n",
        "  if epoch % 500 == 0:\n",
        "    print(f'Epoch: {epoch} completed')\n",
        "\n",
        "import matplotlib.pyplot as plt\n",
        "plt.plot(all_losses)\n",
        "plt.ylabel('Loss')\n",
        "plt.show()\n",
        "\n",
        "# test input\n",
        "input = torch.tensor([1., 0.])\n",
        "out = model(input)\n",
        "print(out.round())\n",
        "\n",
        "input = torch.tensor([0., 1.])\n",
        "out = model(input)\n",
        "print(out.round())\n",
        "\n",
        "input = torch.tensor([1., 1.])\n",
        "out = model(input)\n",
        "print(out.round())\n",
        "\n",
        "input = torch.tensor([0., 0.])\n",
        "out = model(input)\n",
        "print(out.round())"
      ],
      "outputs": [
        {
          "output_type": "stream",
          "name": "stdout",
          "text": [
            "XOR(\n",
            "  (lin1): Linear(in_features=2, out_features=11, bias=True)\n",
            "  (lin2): Linear(in_features=11, out_features=1, bias=False)\n",
            ")\n",
            "----------------------------------------------------------------\n",
            "        Layer (type)               Output Shape         Param #\n",
            "================================================================\n",
            "            Linear-1                [-1, 2, 11]              33\n",
            "            Linear-2                 [-1, 2, 1]              11\n",
            "================================================================\n",
            "Total params: 44\n",
            "Trainable params: 44\n",
            "Non-trainable params: 0\n",
            "----------------------------------------------------------------\n",
            "Input size (MB): 0.00\n",
            "Forward/backward pass size (MB): 0.00\n",
            "Params size (MB): 0.00\n",
            "Estimated Total Size (MB): 0.00\n",
            "----------------------------------------------------------------\n",
            "Epoch: 0 completed\n"
          ]
        },
        {
          "output_type": "stream",
          "name": "stderr",
          "text": [
            "/usr/local/lib/python3.7/dist-packages/torch/nn/functional.py:1805: UserWarning: nn.functional.sigmoid is deprecated. Use torch.sigmoid instead.\n",
            "  warnings.warn(\"nn.functional.sigmoid is deprecated. Use torch.sigmoid instead.\")\n"
          ]
        },
        {
          "output_type": "stream",
          "name": "stdout",
          "text": [
            "Epoch: 500 completed\n",
            "Epoch: 1000 completed\n",
            "Epoch: 1500 completed\n",
            "Epoch: 2000 completed\n"
          ]
        },
        {
          "output_type": "display_data",
          "data": {
            "image/png": "[encoded data removed]",
            "text/plain": [
              "<Figure size 432x288 with 1 Axes>"
            ]
          },
          "metadata": {
            "needs_background": "light"
          }
        },
        {
          "output_type": "stream",
          "name": "stdout",
          "text": [
            "tensor([1.], grad_fn=<RoundBackward>)\n",
            "tensor([1.], grad_fn=<RoundBackward>)\n",
            "tensor([0.], grad_fn=<RoundBackward>)\n",
            "tensor([0.], grad_fn=<RoundBackward>)\n"
          ]
        }
      ],
      "metadata": {
        "colab": {
          "base_uri": "https://localhost:8080/",
          "height": 769
        },
        "id": "IK9tomE0Wfgt",
        "outputId": "bfe835ac-d56b-44b9-84b6-0087723b3a58"
      }
    },
    {
      "cell_type": "markdown",
      "source": [
        "**So the conjunction of the 2 chnaging Activation function to Sigmoid and Loss function to MSELoss gives us proper output **\n",
        "\n",
        "> For Activation as Sigmoid and Loss as L1 loss for matching inputs the output was -0 . Can be tested easlily by just changing the loss function "
      ],
      "metadata": {
        "id": "WUbpLYFvY7Ej"
      }
    },
    {
      "cell_type": "markdown",
      "source": [
        "# ***Now that we have finalized the model lets Prep it for Submission ***"
      ],
      "metadata": {
        "id": "HQtvJxuFZdPK"
      }
    },
    {
      "cell_type": "code",
      "execution_count": null,
      "source": [
        "#Intialize Weights  \n",
        "def weights_init(model):\n",
        "    for m in model.modules():\n",
        "        if isinstance(m, nn.Linear):\n",
        "            # initialize the weight tensor, here we use a normal distribution\n",
        "            m.weight.data.normal_(0, 1)\n",
        "\n",
        "weights_init(model)"
      ],
      "outputs": [],
      "metadata": {
        "id": "yeotEq19x6XF"
      }
    },
    {
      "cell_type": "code",
      "execution_count": null,
      "source": [
        "#define loss function\n",
        "loss_func = nn.MSELoss()"
      ],
      "outputs": [],
      "metadata": {
        "id": "WrD_sNzLx78e"
      }
    },
    {
      "cell_type": "code",
      "execution_count": null,
      "source": [
        "optimizer = optim.SGD(model.parameters(), lr=0.02, momentum=0.9)\n"
      ],
      "outputs": [],
      "metadata": {
        "id": "-zvbrMd2x_lA"
      }
    },
    {
      "cell_type": "code",
      "execution_count": null,
      "source": [
        "epochs = 2001\n",
        "steps = X.size(0)\n",
        "for i in range(epochs):\n",
        "    for j in range(steps):\n",
        "        data_point = np.random.randint(X.size(0))\n",
        "        x_var = Variable(X[data_point], requires_grad=False)\n",
        "        y_var = Variable(Y[data_point], requires_grad=False)\n",
        "        \n",
        "        optimizer.zero_grad()\n",
        "        y_hat = model(x_var)\n",
        "        loss = loss_func.forward(y_hat, y_var)\n",
        "        loss.backward()\n",
        "        optimizer.step()\n",
        "        \n",
        "    if i % 50 == 0:\n",
        "        print( \"Epoch: {0}, Loss: {1}, \".format(i, loss.data.numpy()))"
      ],
      "outputs": [
        {
          "output_type": "stream",
          "name": "stderr",
          "text": [
            "/usr/local/lib/python3.7/dist-packages/torch/nn/functional.py:1805: UserWarning: nn.functional.sigmoid is deprecated. Use torch.sigmoid instead.\n",
            "  warnings.warn(\"nn.functional.sigmoid is deprecated. Use torch.sigmoid instead.\")\n"
          ]
        },
        {
          "output_type": "stream",
          "name": "stdout",
          "text": [
            "Epoch: 0, Loss: 0.05750475823879242, \n",
            "Epoch: 50, Loss: 0.021939460188150406, \n",
            "Epoch: 100, Loss: 0.10749471932649612, \n",
            "Epoch: 150, Loss: 0.003037582617253065, \n",
            "Epoch: 200, Loss: 4.7479476052103564e-05, \n",
            "Epoch: 250, Loss: 5.373238209926967e-08, \n",
            "Epoch: 300, Loss: 1.4496492894977564e-10, \n",
            "Epoch: 350, Loss: 9.094947017729282e-13, \n",
            "Epoch: 400, Loss: 7.993605777301127e-13, \n",
            "Epoch: 450, Loss: 3.552713678800501e-13, \n",
            "Epoch: 500, Loss: 2.877698079828406e-13, \n",
            "Epoch: 550, Loss: 5.115907697472721e-13, \n",
            "Epoch: 600, Loss: 3.552713678800501e-13, \n",
            "Epoch: 650, Loss: 5.115907697472721e-13, \n",
            "Epoch: 700, Loss: 2.2737367544323206e-13, \n",
            "Epoch: 750, Loss: 2.2737367544323206e-13, \n",
            "Epoch: 800, Loss: 5.115907697472721e-13, \n",
            "Epoch: 850, Loss: 2.877698079828406e-13, \n",
            "Epoch: 900, Loss: 2.877698079828406e-13, \n",
            "Epoch: 950, Loss: 2.877698079828406e-13, \n",
            "Epoch: 1000, Loss: 1.2789769243681803e-13, \n",
            "Epoch: 1050, Loss: 1.2789769243681803e-13, \n",
            "Epoch: 1100, Loss: 2.877698079828406e-13, \n",
            "Epoch: 1150, Loss: 4.298783551348606e-13, \n",
            "Epoch: 1200, Loss: 2.877698079828406e-13, \n",
            "Epoch: 1250, Loss: 2.2737367544323206e-13, \n",
            "Epoch: 1300, Loss: 3.552713678800501e-13, \n",
            "Epoch: 1350, Loss: 4.298783551348606e-13, \n",
            "Epoch: 1400, Loss: 2.2737367544323206e-13, \n",
            "Epoch: 1450, Loss: 4.298783551348606e-13, \n",
            "Epoch: 1500, Loss: 2.877698079828406e-13, \n",
            "Epoch: 1550, Loss: 1.4210854715202004e-14, \n",
            "Epoch: 1600, Loss: 3.552713678800501e-13, \n",
            "Epoch: 1650, Loss: 1.7408297026122455e-13, \n",
            "Epoch: 1700, Loss: 4.298783551348606e-13, \n",
            "Epoch: 1750, Loss: 3.552713678800501e-13, \n",
            "Epoch: 1800, Loss: 8.881784197001252e-14, \n",
            "Epoch: 1850, Loss: 1.2789769243681803e-13, \n",
            "Epoch: 1900, Loss: 3.552713678800501e-13, \n",
            "Epoch: 1950, Loss: 2.2737367544323206e-13, \n",
            "Epoch: 2000, Loss: 4.298783551348606e-13, \n"
          ]
        }
      ],
      "metadata": {
        "colab": {
          "base_uri": "https://localhost:8080/"
        },
        "id": "q7tWa3D7yA5X",
        "outputId": "8d7a99da-c4cd-4722-caa3-6b526f49edfb"
      }
    },
    {
      "cell_type": "code",
      "execution_count": null,
      "source": [
        "# test input\n",
        "input = torch.tensor([1., 0.])\n",
        "out = model(input)\n",
        "print(out.round())"
      ],
      "outputs": [
        {
          "output_type": "stream",
          "name": "stdout",
          "text": [
            "tensor([1.], grad_fn=<RoundBackward>)\n"
          ]
        },
        {
          "output_type": "stream",
          "name": "stderr",
          "text": [
            "/usr/local/lib/python3.7/dist-packages/torch/nn/functional.py:1805: UserWarning: nn.functional.sigmoid is deprecated. Use torch.sigmoid instead.\n",
            "  warnings.warn(\"nn.functional.sigmoid is deprecated. Use torch.sigmoid instead.\")\n"
          ]
        }
      ],
      "metadata": {
        "id": "QV0dIdveyCRi",
        "colab": {
          "base_uri": "https://localhost:8080/"
        },
        "outputId": "9a803fd2-c4c5-4284-adee-06dab4bcab52"
      }
    },
    {
      "cell_type": "markdown",
      "source": [
        "**There are always N number of ways to do a particular task, Hence we also experimented with different number of layers and filters to see how else we can achieve our goal **"
      ],
      "metadata": {
        "id": "oY58swOY5w8_"
      }
    },
    {
      "cell_type": "code",
      "execution_count": null,
      "source": [
        "# XOR_method1 : Uses 3 Linear layers to get the total parameters 44, changed activations from \"tanh\" to \"sigmoid\", removed activation from last layer\n",
        "class XOR_method1(nn.Module):\n",
        "    def __init__(self, input_dim = 2, output_dim=1):\n",
        "        super(XOR_method1, self).__init__()\n",
        "        self.lin1 = nn.Linear(input_dim, 5)\n",
        "        self.lin2 = nn.Linear(5, 4)\n",
        "        self.lin3 = nn.Linear(4, output_dim)\n",
        "    \n",
        "    def forward(self, x):\n",
        "        x = self.lin1(x)\n",
        "        x = F.sigmoid(x)      # Changed activation from tanh to sigmoid for better predictions\n",
        "        x = self.lin2(x)\n",
        "        x = F.sigmoid(x)\n",
        "        x = self.lin3(x)\n",
        "        return x\n",
        "\n",
        "# Model Summary for XOR_Method1\n",
        "model_1 = XOR_method1()\n",
        "print(model_1)\n",
        "from torchsummary import summary\n",
        "summary(model_1, (2,2))"
      ],
      "outputs": [
        {
          "output_type": "stream",
          "name": "stdout",
          "text": [
            "XOR_method1(\n",
            "  (lin1): Linear(in_features=2, out_features=5, bias=True)\n",
            "  (lin2): Linear(in_features=5, out_features=4, bias=True)\n",
            "  (lin3): Linear(in_features=4, out_features=1, bias=True)\n",
            ")\n",
            "----------------------------------------------------------------\n",
            "        Layer (type)               Output Shape         Param #\n",
            "================================================================\n",
            "            Linear-1                 [-1, 2, 5]              15\n",
            "            Linear-2                 [-1, 2, 4]              24\n",
            "            Linear-3                 [-1, 2, 1]               5\n",
            "================================================================\n",
            "Total params: 44\n",
            "Trainable params: 44\n",
            "Non-trainable params: 0\n",
            "----------------------------------------------------------------\n",
            "Input size (MB): 0.00\n",
            "Forward/backward pass size (MB): 0.00\n",
            "Params size (MB): 0.00\n",
            "Estimated Total Size (MB): 0.00\n",
            "----------------------------------------------------------------\n"
          ]
        },
        {
          "output_type": "stream",
          "name": "stderr",
          "text": [
            "/usr/local/lib/python3.7/dist-packages/torch/nn/functional.py:1805: UserWarning: nn.functional.sigmoid is deprecated. Use torch.sigmoid instead.\n",
            "  warnings.warn(\"nn.functional.sigmoid is deprecated. Use torch.sigmoid instead.\")\n"
          ]
        }
      ],
      "metadata": {
        "colab": {
          "base_uri": "https://localhost:8080/"
        },
        "id": "JACtFDVh65Ul",
        "outputId": "9b7e6be8-6610-46a6-946a-56a4c527691e"
      }
    },
    {
      "cell_type": "code",
      "execution_count": null,
      "source": [
        "#weight initialization for different models\n",
        "def weights_init(model):\n",
        "    for m in model.modules():\n",
        "        if isinstance(m, nn.Linear):\n",
        "            # initialize the weight tensor, here we use a normal distribution\n",
        "            m.weight.data.normal_(0, 1)\n",
        "\n",
        "weights_init(model_1)"
      ],
      "outputs": [],
      "metadata": {
        "id": "4PlHO0JL7cWw"
      }
    },
    {
      "cell_type": "code",
      "execution_count": null,
      "source": [
        "loss_func = nn.MSELoss() #nn.L1Loss() # Modified loss function to get better predictions\n",
        "# Modified optimizer from SGD to Adam \n",
        "optimizer_1 = optim.Adam(model_1.parameters(), lr=0.02)"
      ],
      "outputs": [],
      "metadata": {
        "id": "_PRf7Fb67def"
      }
    },
    {
      "cell_type": "code",
      "execution_count": null,
      "source": [
        "#Function to plot the gradient flow for every model\n",
        "def plot_grad_flow(named_parameters):\n",
        "    ave_grads = []\n",
        "    layers = []\n",
        "    for n, p in named_parameters:\n",
        "        if(p.requires_grad) and (\"bias\" not in n):\n",
        "            layers.append(n)\n",
        "            if p.grad == None:\n",
        "              continue\n",
        "            else:\n",
        "              ave_grads.append(p.grad.abs().mean())\n",
        "            \n",
        "    plt.plot(ave_grads, alpha=0.3, color=\"b\")\n",
        "    plt.hlines(0, 0, len(ave_grads)+1, linewidth=1, color=\"k\" )\n",
        "    plt.xticks(range(0,len(ave_grads), 1), layers, rotation=\"vertical\")\n",
        "    plt.xlim(xmin=0, xmax=len(ave_grads))\n",
        "    plt.xlabel(\"Layers\")\n",
        "    plt.ylabel(\"average gradient\")\n",
        "    plt.title(\"Gradient flow\")\n",
        "    plt.grid(True)\n",
        "    return ave_grads"
      ],
      "outputs": [],
      "metadata": {
        "id": "U6hmwZS07oqp"
      }
    },
    {
      "cell_type": "code",
      "execution_count": null,
      "source": [
        "epochs = 2001          # Number of epochs changed to 2001\n",
        "steps = X.size(0)\n",
        "Loss_method1 = []\n",
        "Loss_method2 = []\n",
        "Loss_method3 = []\n",
        "\n",
        "\n",
        "for i in range(epochs):\n",
        "    for j in range(steps):\n",
        "        data_point = np.random.randint(X.size(0))\n",
        "        x_var = Variable(X[data_point], requires_grad=False)\n",
        "        y_var = Variable(Y[data_point], requires_grad=False)\n",
        "        \n",
        "        ########### Training Method-1 Model ###################################\n",
        "        optimizer_1.zero_grad()\n",
        "        y_hat_1 = model_1(x_var)\n",
        "        loss_1 = loss_func.forward(y_hat_1, y_var)\n",
        "        loss_1.backward()\n",
        "        if i% 100 == 0:\n",
        "          plot_grad_flow(model_1.named_parameters())\n",
        "        optimizer_1.step()\n",
        "\n",
        "    \n",
        "    ## Collecting losses separately for each method\n",
        "    Loss_method1.append(loss_1) \n",
        "    \n",
        "\n",
        "    # Printing out Loss values for every 50 epochs\n",
        "    if i % 50 == 0:\n",
        "        print( \"Epoch: {0}, Loss_method1: {1} \".format(i, loss_1.data.numpy()))"
      ],
      "outputs": [
        {
          "output_type": "stream",
          "name": "stderr",
          "text": [
            "/usr/local/lib/python3.7/dist-packages/torch/nn/functional.py:1805: UserWarning: nn.functional.sigmoid is deprecated. Use torch.sigmoid instead.\n",
            "  warnings.warn(\"nn.functional.sigmoid is deprecated. Use torch.sigmoid instead.\")\n"
          ]
        },
        {
          "output_type": "stream",
          "name": "stdout",
          "text": [
            "Epoch: 0, Loss_method1: 0.07520356774330139 \n",
            "Epoch: 50, Loss_method1: 0.17813394963741302 \n",
            "Epoch: 100, Loss_method1: 0.06872913241386414 \n",
            "Epoch: 150, Loss_method1: 5.308163235895336e-05 \n",
            "Epoch: 200, Loss_method1: 1.3637694792123511e-05 \n",
            "Epoch: 250, Loss_method1: 1.87771220794275e-09 \n",
            "Epoch: 300, Loss_method1: 6.417089082333405e-14 \n",
            "Epoch: 350, Loss_method1: 1.2789769243681803e-13 \n",
            "Epoch: 400, Loss_method1: 5.684341886080802e-14 \n",
            "Epoch: 450, Loss_method1: 0.0 \n",
            "Epoch: 500, Loss_method1: 5.684341886080802e-14 \n",
            "Epoch: 550, Loss_method1: 8.881784197001252e-16 \n",
            "Epoch: 600, Loss_method1: 0.0 \n",
            "Epoch: 650, Loss_method1: 3.197442310920451e-14 \n",
            "Epoch: 700, Loss_method1: 0.0 \n",
            "Epoch: 750, Loss_method1: 5.551115123125783e-15 \n",
            "Epoch: 800, Loss_method1: 1.9984014443252818e-15 \n",
            "Epoch: 850, Loss_method1: 0.0 \n",
            "Epoch: 900, Loss_method1: 0.0 \n",
            "Epoch: 950, Loss_method1: 7.993605777301127e-15 \n",
            "Epoch: 1000, Loss_method1: 2.220446049250313e-16 \n",
            "Epoch: 1050, Loss_method1: 5.684341886080802e-14 \n",
            "Epoch: 1100, Loss_method1: 5.551115123125783e-15 \n",
            "Epoch: 1150, Loss_method1: 1.1193268534270828e-12 \n",
            "Epoch: 1200, Loss_method1: 2.562185130727812e-08 \n",
            "Epoch: 1250, Loss_method1: 0.010690276511013508 \n",
            "Epoch: 1300, Loss_method1: 0.0001274522946914658 \n",
            "Epoch: 1350, Loss_method1: 2.1614710021822248e-11 \n",
            "Epoch: 1400, Loss_method1: 8.530065542800003e-12 \n",
            "Epoch: 1450, Loss_method1: 2.0463630789890885e-12 \n",
            "Epoch: 1500, Loss_method1: 5.551115123125783e-17 \n",
            "Epoch: 1550, Loss_method1: 0.0 \n",
            "Epoch: 1600, Loss_method1: 0.0 \n",
            "Epoch: 1650, Loss_method1: 0.0 \n",
            "Epoch: 1700, Loss_method1: 0.0 \n",
            "Epoch: 1750, Loss_method1: 0.0 \n",
            "Epoch: 1800, Loss_method1: 0.0 \n",
            "Epoch: 1850, Loss_method1: 0.0 \n",
            "Epoch: 1900, Loss_method1: 0.0 \n",
            "Epoch: 1950, Loss_method1: 0.0 \n",
            "Epoch: 2000, Loss_method1: 0.0 \n"
          ]
        },
        {
          "output_type": "display_data",
          "data": {
            "image/png": "[encoded data removed]",
            "text/plain": [
              "<Figure size 432x288 with 1 Axes>"
            ]
          },
          "metadata": {
            "needs_background": "light"
          }
        }
      ],
      "metadata": {
        "colab": {
          "base_uri": "https://localhost:8080/",
          "height": 1000
        },
        "id": "ne0WXFTP7pWo",
        "outputId": "696720e5-3f31-469e-f70b-e5395212055c"
      }
    },
    {
      "cell_type": "code",
      "execution_count": null,
      "source": [
        "# Plotting - Loss Vs Epochs\n",
        "import matplotlib.pyplot as plt\n",
        "plt.rcParams['figure.figsize'] = [20, 5]\n",
        "plt.plot(range(0,2001,50), [x for x in Loss_method1[0::50]],label='Method_1 - 3 Linear Layers')\n",
        "plt.legend()\n",
        "plt.title(\"Method1-3Linear layers --> Loss Vs Epochs\")\n",
        "plt.xlabel(\"Epochs\")\n",
        "plt.ylabel(\"Loss\")"
      ],
      "outputs": [
        {
          "output_type": "execute_result",
          "data": {
            "text/plain": [
              "Text(0, 0.5, 'Loss')"
            ]
          },
          "metadata": {},
          "execution_count": 45
        },
        {
          "output_type": "display_data",
          "data": {
            "image/png": "[encoded data removed]",
            "text/plain": [
              "<Figure size 1440x360 with 1 Axes>"
            ]
          },
          "metadata": {
            "needs_background": "light"
          }
        }
      ],
      "metadata": {
        "colab": {
          "base_uri": "https://localhost:8080/",
          "height": 367
        },
        "id": "MfxQUchn86uA",
        "outputId": "59ff010e-9be9-474d-b15f-bc94c26be17a"
      }
    },
    {
      "cell_type": "code",
      "execution_count": null,
      "source": [
        "\n",
        "### Predictions ##########################\n",
        "y_hat_method1 = model_1(X)\n",
        "y_hat_method1"
      ],
      "outputs": [
        {
          "output_type": "stream",
          "name": "stderr",
          "text": [
            "/usr/local/lib/python3.7/dist-packages/torch/nn/functional.py:1805: UserWarning: nn.functional.sigmoid is deprecated. Use torch.sigmoid instead.\n",
            "  warnings.warn(\"nn.functional.sigmoid is deprecated. Use torch.sigmoid instead.\")\n"
          ]
        },
        {
          "output_type": "execute_result",
          "data": {
            "text/plain": [
              "tensor([[0.],\n",
              "        [1.],\n",
              "        [1.],\n",
              "        [0.]], grad_fn=<AddmmBackward>)"
            ]
          },
          "metadata": {},
          "execution_count": 46
        }
      ],
      "metadata": {
        "colab": {
          "base_uri": "https://localhost:8080/"
        },
        "id": "r7Vp6_QF9CYQ",
        "outputId": "ac242475-350e-4a05-97b1-43174bbc6705"
      }
    },
    {
      "cell_type": "code",
      "execution_count": null,
      "source": [
        "# Final Predictions comparison\n",
        "y_hat_method1_n,Y_actual = y_hat_method1.detach().cpu().numpy(), Y.detach().cpu().numpy() # Detaching to convert to array and send it to Dataframe\n",
        "\n",
        "import pandas as pd\n",
        "predictions_df = pd.DataFrame(data = [Y_actual.reshape(-1), y_hat_method1_n.reshape(-1)]).T\n",
        "predictions_df.columns=['Y_Actual','Y_method1_predi']\n",
        "predictions_df"
      ],
      "outputs": [
        {
          "output_type": "execute_result",
          "data": {
            "text/html": [
              "<div>\n",
              "<style scoped>\n",
              "    .dataframe tbody tr th:only-of-type {\n",
              "        vertical-align: middle;\n",
              "    }\n",
              "\n",
              "    .dataframe tbody tr th {\n",
              "        vertical-align: top;\n",
              "    }\n",
              "\n",
              "    .dataframe thead th {\n",
              "        text-align: right;\n",
              "    }\n",
              "</style>\n",
              "<table border=\"1\" class=\"dataframe\">\n",
              "  <thead>\n",
              "    <tr style=\"text-align: right;\">\n",
              "      <th></th>\n",
              "      <th>Y_Actual</th>\n",
              "      <th>Y_method1_predi</th>\n",
              "    </tr>\n",
              "  </thead>\n",
              "  <tbody>\n",
              "    <tr>\n",
              "      <th>0</th>\n",
              "      <td>0.0</td>\n",
              "      <td>0.0</td>\n",
              "    </tr>\n",
              "    <tr>\n",
              "      <th>1</th>\n",
              "      <td>1.0</td>\n",
              "      <td>1.0</td>\n",
              "    </tr>\n",
              "    <tr>\n",
              "      <th>2</th>\n",
              "      <td>1.0</td>\n",
              "      <td>1.0</td>\n",
              "    </tr>\n",
              "    <tr>\n",
              "      <th>3</th>\n",
              "      <td>0.0</td>\n",
              "      <td>0.0</td>\n",
              "    </tr>\n",
              "  </tbody>\n",
              "</table>\n",
              "</div>"
            ],
            "text/plain": [
              "   Y_Actual  Y_method1_predi\n",
              "0       0.0              0.0\n",
              "1       1.0              1.0\n",
              "2       1.0              1.0\n",
              "3       0.0              0.0"
            ]
          },
          "metadata": {},
          "execution_count": 48
        }
      ],
      "metadata": {
        "colab": {
          "base_uri": "https://localhost:8080/",
          "height": 172
        },
        "id": "UtbQLnf2S6w1",
        "outputId": "010c74ae-5758-49cf-ae5e-17cce14a444c"
      }
    }
  ]
}