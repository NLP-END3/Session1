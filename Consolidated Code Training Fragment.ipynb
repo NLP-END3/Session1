{
  "nbformat": 4,
  "nbformat_minor": 2,
  "metadata": {
    "colab": {
      "name": "Copy of END2.0 Session 1.ipynb",
      "provenance": [],
      "collapsed_sections": []
    },
    "kernelspec": {
      "name": "python3",
      "display_name": "Python 3"
    },
    "language_info": {
      "name": "python"
    }
  },
  "cells": [
    {
      "cell_type": "code",
      "execution_count": 2,
      "source": [
        "import torch\r\n",
        "from torch.autograd import Variable\r\n",
        "import torch.nn as nn\r\n",
        "import torch.nn.functional as F\r\n",
        "import torch.optim as optim\r\n",
        "import numpy as np\r\n",
        "import matplotlib.pyplot as plt\r\n",
        "%matplotlib inline\r\n",
        "torch.manual_seed(2)"
      ],
      "outputs": [
        {
          "output_type": "execute_result",
          "data": {
            "text/plain": [
              "<torch._C.Generator at 0x7f1b50f13a70>"
            ]
          },
          "metadata": {},
          "execution_count": 2
        }
      ],
      "metadata": {
        "colab": {
          "base_uri": "https://localhost:8080/"
        },
        "id": "GC_6PeobwwkH",
        "outputId": "6b618513-8b9e-43cf-f993-07378467bf79"
      }
    },
    {
      "cell_type": "code",
      "execution_count": 3,
      "source": [
        "X = torch.Tensor([[0,0], [0,1], [1,0], [1,1]])\r\n",
        "Y = torch.Tensor([0, 1, 1, 0]).view(-1,1)"
      ],
      "outputs": [],
      "metadata": {
        "id": "bL64bMTkw2GP"
      }
    },
    {
      "cell_type": "code",
      "execution_count": 4,
      "source": [
        "import torch.nn as nn \r\n",
        "class XOR(nn.Module):\r\n",
        "    def __init__(self, input_dim = 2, output_dim=1):\r\n",
        "        super(XOR, self).__init__()\r\n",
        "        self.lin1 = nn.Linear(input_dim, 11)\r\n",
        "        self.lin2 = nn.Linear(11, output_dim,bias=False)\r\n",
        "    \r\n",
        "    def forward(self, x):\r\n",
        "        x = self.lin1(x)\r\n",
        "        x = F.tanh(x)\r\n",
        "        x = self.lin2(x)\r\n",
        "        # x = F.tanh(x)\r\n",
        "        return x\r\n",
        "\r\n",
        "model_tanH = XOR()\r\n",
        "print(model_tanH)\r\n",
        "from torchsummary import summary\r\n",
        "summary(model_tanH, (2,2))"
      ],
      "outputs": [
        {
          "output_type": "stream",
          "name": "stdout",
          "text": [
            "XOR(\n",
            "  (lin1): Linear(in_features=2, out_features=11, bias=True)\n",
            "  (lin2): Linear(in_features=11, out_features=1, bias=False)\n",
            ")\n",
            "----------------------------------------------------------------\n",
            "        Layer (type)               Output Shape         Param #\n",
            "================================================================\n",
            "            Linear-1                [-1, 2, 11]              33\n",
            "            Linear-2                 [-1, 2, 1]              11\n",
            "================================================================\n",
            "Total params: 44\n",
            "Trainable params: 44\n",
            "Non-trainable params: 0\n",
            "----------------------------------------------------------------\n",
            "Input size (MB): 0.00\n",
            "Forward/backward pass size (MB): 0.00\n",
            "Params size (MB): 0.00\n",
            "Estimated Total Size (MB): 0.00\n",
            "----------------------------------------------------------------\n"
          ]
        },
        {
          "output_type": "stream",
          "name": "stderr",
          "text": [
            "/usr/local/lib/python3.7/dist-packages/torch/nn/functional.py:1794: UserWarning: nn.functional.tanh is deprecated. Use torch.tanh instead.\n",
            "  warnings.warn(\"nn.functional.tanh is deprecated. Use torch.tanh instead.\")\n"
          ]
        }
      ],
      "metadata": {
        "id": "aC82kEAIw3Wf",
        "colab": {
          "base_uri": "https://localhost:8080/"
        },
        "outputId": "e14c839e-b2ec-44f1-a75f-7697d4d55a72"
      }
    },
    {
      "cell_type": "code",
      "execution_count": 5,
      "source": [
        "import torch.nn as nn \r\n",
        "class XOR_new(nn.Module):\r\n",
        "    def __init__(self, input_dim = 2, output_dim=1):\r\n",
        "        super(XOR_new, self).__init__()\r\n",
        "        self.lin1 = nn.Linear(input_dim, 2)\r\n",
        "        self.sigmoid=nn.Sigmoid()\r\n",
        "        self.lin2 = nn.Linear(2, output_dim)\r\n",
        "    \r\n",
        "    def forward(self, x):\r\n",
        "        x = self.lin1(x)\r\n",
        "        sig=self.sigmoid(x)\r\n",
        "        yh = self.lin2(sig)\r\n",
        "        return yh\r\n",
        "model_sigmoid = XOR_new()\r\n",
        "print(model_sigmoid)\r\n",
        "from torchsummary import summary\r\n",
        "summary(model_sigmoid, (2,2))"
      ],
      "outputs": [
        {
          "output_type": "stream",
          "name": "stdout",
          "text": [
            "XOR_new(\n",
            "  (lin1): Linear(in_features=2, out_features=2, bias=True)\n",
            "  (sigmoid): Sigmoid()\n",
            "  (lin2): Linear(in_features=2, out_features=1, bias=True)\n",
            ")\n",
            "----------------------------------------------------------------\n",
            "        Layer (type)               Output Shape         Param #\n",
            "================================================================\n",
            "            Linear-1                 [-1, 2, 2]               6\n",
            "           Sigmoid-2                 [-1, 2, 2]               0\n",
            "            Linear-3                 [-1, 2, 1]               3\n",
            "================================================================\n",
            "Total params: 9\n",
            "Trainable params: 9\n",
            "Non-trainable params: 0\n",
            "----------------------------------------------------------------\n",
            "Input size (MB): 0.00\n",
            "Forward/backward pass size (MB): 0.00\n",
            "Params size (MB): 0.00\n",
            "Estimated Total Size (MB): 0.00\n",
            "----------------------------------------------------------------\n"
          ]
        }
      ],
      "metadata": {
        "id": "0ydn0xuW_3hB",
        "colab": {
          "base_uri": "https://localhost:8080/"
        },
        "outputId": "b2aac245-f556-43af-c77b-3493b0e3172b"
      }
    },
    {
      "cell_type": "code",
      "execution_count": 6,
      "source": [
        "epochs = 2001\r\n",
        "mseloss = nn.L1Loss()\r\n",
        "model= model_tanH\r\n",
        "optimizer = torch.optim.Adam(model.parameters(), lr = 0.03)\r\n",
        "all_losses = []\r\n",
        "current_loss = 0\r\n",
        "plot_every = 50\r\n",
        "\r\n",
        "for epoch in range(epochs):\r\n",
        "\r\n",
        "  # input training example and return the prediction\r\n",
        "  yhat = model.forward(X)\r\n",
        "\r\n",
        "  # calculate MSE loss\r\n",
        "  loss = mseloss(yhat, Y)\r\n",
        "  \r\n",
        "  # backpropogate through the loss gradiants\r\n",
        "  loss.backward()\r\n",
        "\r\n",
        "  # update model weights\r\n",
        "  optimizer.step()\r\n",
        "\r\n",
        "  # remove current gradients for next iteration\r\n",
        "  optimizer.zero_grad()\r\n",
        "\r\n",
        "  # append to loss\r\n",
        "  current_loss += loss\r\n",
        "  if epoch % plot_every == 0:\r\n",
        "      all_losses.append(current_loss / plot_every)\r\n",
        "      current_loss = 0\r\n",
        "  \r\n",
        "  # print progress\r\n",
        "  if epoch % 500 == 0:\r\n",
        "    print(f'Epoch: {epoch} completed')"
      ],
      "outputs": [
        {
          "output_type": "stream",
          "name": "stderr",
          "text": [
            "/usr/local/lib/python3.7/dist-packages/torch/nn/functional.py:1794: UserWarning: nn.functional.tanh is deprecated. Use torch.tanh instead.\n",
            "  warnings.warn(\"nn.functional.tanh is deprecated. Use torch.tanh instead.\")\n"
          ]
        },
        {
          "output_type": "stream",
          "name": "stdout",
          "text": [
            "Epoch: 0 completed\n",
            "Epoch: 500 completed\n",
            "Epoch: 1000 completed\n",
            "Epoch: 1500 completed\n",
            "Epoch: 2000 completed\n"
          ]
        }
      ],
      "metadata": {
        "id": "z74l1tIZBUnv",
        "colab": {
          "base_uri": "https://localhost:8080/"
        },
        "outputId": "dd43092c-48b6-4526-e4a8-83efb4d50215"
      }
    },
    {
      "cell_type": "code",
      "execution_count": 7,
      "source": [
        "import matplotlib.pyplot as plt\r\n",
        "plt.plot(all_losses)\r\n",
        "plt.ylabel('Loss')\r\n",
        "plt.show()"
      ],
      "outputs": [
        {
          "output_type": "display_data",
          "data": {
            "image/png": "[encoded data removed]",
            "text/plain": [
              "<Figure size 432x288 with 1 Axes>"
            ]
          },
          "metadata": {
            "needs_background": "light"
          }
        }
      ],
      "metadata": {
        "id": "YPlBHssbB61i",
        "colab": {
          "base_uri": "https://localhost:8080/",
          "height": 265
        },
        "outputId": "3b441bc7-f130-4695-b5b3-18a026d3f52e"
      }
    },
    {
      "cell_type": "code",
      "execution_count": 8,
      "source": [
        "# show weights and bias\r\n",
        "for name, param in model.named_parameters():\r\n",
        "    if param.requires_grad:\r\n",
        "        print(name, param.data)"
      ],
      "outputs": [
        {
          "output_type": "stream",
          "name": "stdout",
          "text": [
            "lin1.weight tensor([[-5.2772e-04, -1.4057e-03],\n",
            "        [-3.9559e-02, -4.6796e-02],\n",
            "        [-8.3675e-03, -3.1884e-02],\n",
            "        [-1.1089e-07, -5.8259e-08],\n",
            "        [-2.2527e+00, -1.8963e+00],\n",
            "        [ 2.8409e-01,  6.0969e-01],\n",
            "        [ 8.8980e-12, -1.9587e-11],\n",
            "        [ 2.5754e-01,  5.5714e-01],\n",
            "        [-1.4035e+00, -9.4239e-01],\n",
            "        [-2.3906e+00,  1.3579e+00],\n",
            "        [-1.1876e+00,  2.1739e+00]])\n",
            "lin1.bias tensor([ 9.6550e-04,  4.3152e-02,  1.4389e-02,  8.6693e-08, -2.1803e-01,\n",
            "        -5.1748e-01,  5.1061e-12, -4.6264e-01, -1.1430e+00, -6.9032e-01,\n",
            "         3.3150e-01])\n",
            "lin2.weight tensor([[-2.7231e-05, -4.2756e-04,  3.8405e-03, -2.1225e-09, -7.4238e-01,\n",
            "         -6.2455e-02,  1.0766e-12, -3.7393e-02, -5.2153e-01,  7.0791e-01,\n",
            "         -6.2972e-01]])\n"
          ]
        }
      ],
      "metadata": {
        "id": "7t3CnO1QCGUU",
        "colab": {
          "base_uri": "https://localhost:8080/"
        },
        "outputId": "5e6b45f1-552a-40e8-beec-cfa2ca6959da"
      }
    },
    {
      "cell_type": "code",
      "execution_count": 9,
      "source": [
        "# test input\r\n",
        "input = torch.tensor([1., 0.])\r\n",
        "out = model(input)\r\n",
        "print(out.round())"
      ],
      "outputs": [
        {
          "output_type": "stream",
          "name": "stdout",
          "text": [
            "tensor([1.], grad_fn=<RoundBackward>)\n"
          ]
        },
        {
          "output_type": "stream",
          "name": "stderr",
          "text": [
            "/usr/local/lib/python3.7/dist-packages/torch/nn/functional.py:1794: UserWarning: nn.functional.tanh is deprecated. Use torch.tanh instead.\n",
            "  warnings.warn(\"nn.functional.tanh is deprecated. Use torch.tanh instead.\")\n"
          ]
        }
      ],
      "metadata": {
        "id": "37m6LKkcCLLR",
        "colab": {
          "base_uri": "https://localhost:8080/"
        },
        "outputId": "ebd5a420-6d54-4162-e213-ea4052dec94d"
      }
    },
    {
      "cell_type": "code",
      "execution_count": 9,
      "source": [],
      "outputs": [],
      "metadata": {
        "id": "y0oLqzIqDZiE"
      }
    },
    {
      "cell_type": "code",
      "execution_count": 10,
      "source": [
        "#should be redundant \r\n",
        "def weights_init(model):\r\n",
        "    for m in model.modules():\r\n",
        "        if isinstance(m, nn.Linear):\r\n",
        "            # initialize the weight tensor, here we use a normal distribution\r\n",
        "            m.weight.data.normal_(0, 1)\r\n",
        "\r\n",
        "weights_init(model)"
      ],
      "outputs": [],
      "metadata": {
        "id": "yeotEq19x6XF"
      }
    },
    {
      "cell_type": "code",
      "execution_count": 11,
      "source": [
        "loss_func = nn.L1Loss()"
      ],
      "outputs": [],
      "metadata": {
        "id": "WrD_sNzLx78e"
      }
    },
    {
      "cell_type": "code",
      "execution_count": 12,
      "source": [
        "optimizer = optim.SGD(model.parameters(), lr=0.02, momentum=0.9)\n"
      ],
      "outputs": [],
      "metadata": {
        "id": "-zvbrMd2x_lA"
      }
    },
    {
      "cell_type": "code",
      "execution_count": 13,
      "source": [
        "epochs = 2001\n",
        "steps = X.size(0)\n",
        "for i in range(epochs):\n",
        "    for j in range(steps):\n",
        "        data_point = np.random.randint(X.size(0))\n",
        "        x_var = Variable(X[data_point], requires_grad=False)\n",
        "        y_var = Variable(Y[data_point], requires_grad=False)\n",
        "        \n",
        "        optimizer.zero_grad()\n",
        "        y_hat = model(x_var)\n",
        "        loss = loss_func.forward(y_hat, y_var)\n",
        "        loss.backward()\n",
        "        optimizer.step()\n",
        "        \n",
        "    if i % 50 == 0:\n",
        "        print( \"Epoch: {0}, Loss: {1}, \".format(i, loss.data.numpy()))"
      ],
      "outputs": [
        {
          "output_type": "stream",
          "name": "stdout",
          "text": [
            "Epoch: 0, Loss: 0.4060080051422119, \n",
            "Epoch: 50, Loss: 0.38793277740478516, \n"
          ]
        },
        {
          "output_type": "stream",
          "name": "stderr",
          "text": [
            "/usr/local/lib/python3.7/dist-packages/torch/nn/functional.py:1794: UserWarning: nn.functional.tanh is deprecated. Use torch.tanh instead.\n",
            "  warnings.warn(\"nn.functional.tanh is deprecated. Use torch.tanh instead.\")\n"
          ]
        },
        {
          "output_type": "stream",
          "name": "stdout",
          "text": [
            "Epoch: 100, Loss: 0.09887230396270752, \n",
            "Epoch: 150, Loss: 0.30850839614868164, \n",
            "Epoch: 200, Loss: 0.11654996871948242, \n",
            "Epoch: 250, Loss: 0.1616257131099701, \n",
            "Epoch: 300, Loss: 0.6538232564926147, \n",
            "Epoch: 350, Loss: 0.41702044010162354, \n",
            "Epoch: 400, Loss: 0.30091750621795654, \n",
            "Epoch: 450, Loss: 0.04619207978248596, \n",
            "Epoch: 500, Loss: 0.3159656822681427, \n",
            "Epoch: 550, Loss: 0.024342982098460197, \n",
            "Epoch: 600, Loss: 0.1847330778837204, \n",
            "Epoch: 650, Loss: 0.017835693433880806, \n",
            "Epoch: 700, Loss: 0.22653913497924805, \n",
            "Epoch: 750, Loss: 0.08087413758039474, \n",
            "Epoch: 800, Loss: 0.6061033010482788, \n",
            "Epoch: 850, Loss: 0.16780459880828857, \n",
            "Epoch: 900, Loss: 0.1315239816904068, \n",
            "Epoch: 950, Loss: 0.06830447912216187, \n",
            "Epoch: 1000, Loss: 0.22580468654632568, \n",
            "Epoch: 1050, Loss: 0.44908028841018677, \n",
            "Epoch: 1100, Loss: 0.15085792541503906, \n",
            "Epoch: 1150, Loss: 0.3332095146179199, \n",
            "Epoch: 1200, Loss: 0.33586305379867554, \n",
            "Epoch: 1250, Loss: 0.08921867609024048, \n",
            "Epoch: 1300, Loss: 0.02267313003540039, \n",
            "Epoch: 1350, Loss: 0.10561585426330566, \n",
            "Epoch: 1400, Loss: 0.010541200637817383, \n",
            "Epoch: 1450, Loss: 0.14743781089782715, \n",
            "Epoch: 1500, Loss: 0.05832481384277344, \n",
            "Epoch: 1550, Loss: 0.04234206676483154, \n",
            "Epoch: 1600, Loss: 0.041638851165771484, \n",
            "Epoch: 1650, Loss: 0.5662610530853271, \n",
            "Epoch: 1700, Loss: 0.03909873962402344, \n",
            "Epoch: 1750, Loss: 0.11093556880950928, \n",
            "Epoch: 1800, Loss: 0.12122535705566406, \n",
            "Epoch: 1850, Loss: 0.01162576675415039, \n",
            "Epoch: 1900, Loss: 0.03685331344604492, \n",
            "Epoch: 1950, Loss: 0.002232193946838379, \n",
            "Epoch: 2000, Loss: 0.0191115140914917, \n"
          ]
        }
      ],
      "metadata": {
        "colab": {
          "base_uri": "https://localhost:8080/"
        },
        "id": "q7tWa3D7yA5X",
        "outputId": "821f22e6-f23e-4b94-bd04-12efea72da05"
      }
    },
    {
      "cell_type": "code",
      "execution_count": 14,
      "source": [
        "# test input\n",
        "input = torch.tensor([1., 0.])\n",
        "out = model(input)\n",
        "print(out.round())"
      ],
      "outputs": [
        {
          "output_type": "stream",
          "name": "stdout",
          "text": [
            "tensor([1.], grad_fn=<RoundBackward>)\n"
          ]
        },
        {
          "output_type": "stream",
          "name": "stderr",
          "text": [
            "/usr/local/lib/python3.7/dist-packages/torch/nn/functional.py:1794: UserWarning: nn.functional.tanh is deprecated. Use torch.tanh instead.\n",
            "  warnings.warn(\"nn.functional.tanh is deprecated. Use torch.tanh instead.\")\n"
          ]
        }
      ],
      "metadata": {
        "id": "QV0dIdveyCRi",
        "colab": {
          "base_uri": "https://localhost:8080/"
        },
        "outputId": "78c97e50-0903-40e3-9549-524688cffe26"
      }
    },
    {
      "cell_type": "code",
      "execution_count": 14,
      "source": [],
      "outputs": [],
      "metadata": {
        "id": "GiyV7fFCD3OF"
      }
    },
    {
      "cell_type": "markdown",
      "source": [
        "**Prateek and Phani's code  **"
      ],
      "metadata": {
        "id": "oY58swOY5w8_"
      }
    },
    {
      "cell_type": "code",
      "execution_count": 15,
      "source": [
        "# XOR_method1 : Uses 3 Linear layers to get the total parameters 44, changed activations from \"tanh\" to \"sigmoid\", removed activation from last layer\n",
        "class XOR_method1(nn.Module):\n",
        "    def __init__(self, input_dim = 2, output_dim=1):\n",
        "        super(XOR_method1, self).__init__()\n",
        "        self.lin1 = nn.Linear(input_dim, 5)\n",
        "        self.lin2 = nn.Linear(5, 4)\n",
        "        self.lin3 = nn.Linear(4, output_dim)\n",
        "    \n",
        "    def forward(self, x):\n",
        "        x = self.lin1(x)\n",
        "        x = F.sigmoid(x)      # Changed activation from tanh to sigmoid for better predictions\n",
        "        x = self.lin2(x)\n",
        "        x = F.sigmoid(x)\n",
        "        x = self.lin3(x)\n",
        "        return x\n",
        "\n",
        "# Model Summary for XOR_Method1\n",
        "model_1 = XOR_method1()\n",
        "print(model_1)\n",
        "from torchsummary import summary\n",
        "summary(model_1, (2,2))"
      ],
      "outputs": [
        {
          "output_type": "stream",
          "name": "stdout",
          "text": [
            "XOR_method1(\n",
            "  (lin1): Linear(in_features=2, out_features=5, bias=True)\n",
            "  (lin2): Linear(in_features=5, out_features=4, bias=True)\n",
            "  (lin3): Linear(in_features=4, out_features=1, bias=True)\n",
            ")\n",
            "----------------------------------------------------------------\n",
            "        Layer (type)               Output Shape         Param #\n",
            "================================================================\n",
            "            Linear-1                 [-1, 2, 5]              15\n",
            "            Linear-2                 [-1, 2, 4]              24\n",
            "            Linear-3                 [-1, 2, 1]               5\n",
            "================================================================\n",
            "Total params: 44\n",
            "Trainable params: 44\n",
            "Non-trainable params: 0\n",
            "----------------------------------------------------------------\n",
            "Input size (MB): 0.00\n",
            "Forward/backward pass size (MB): 0.00\n",
            "Params size (MB): 0.00\n",
            "Estimated Total Size (MB): 0.00\n",
            "----------------------------------------------------------------\n"
          ]
        },
        {
          "output_type": "stream",
          "name": "stderr",
          "text": [
            "/usr/local/lib/python3.7/dist-packages/torch/nn/functional.py:1805: UserWarning: nn.functional.sigmoid is deprecated. Use torch.sigmoid instead.\n",
            "  warnings.warn(\"nn.functional.sigmoid is deprecated. Use torch.sigmoid instead.\")\n"
          ]
        }
      ],
      "metadata": {
        "colab": {
          "base_uri": "https://localhost:8080/"
        },
        "id": "JACtFDVh65Ul",
        "outputId": "60932017-6760-4adc-b58b-12573ba2e93a"
      }
    },
    {
      "cell_type": "code",
      "execution_count": 16,
      "source": [
        "# XOR_method2 : Uses 2 Linear layers to get the total parameters 44, changed activations from \"tanh\" to \"sigmoid\", removed activation from last layer\n",
        "class XOR_method2(nn.Module):\n",
        "    def __init__(self, input_dim = 2, output_dim=1):\n",
        "        super(XOR_method2, self).__init__()\n",
        "        self.lin1 = nn.Linear(input_dim, 11)\n",
        "        self.lin2 = nn.Linear(11, output_dim, bias = False)\n",
        "    \n",
        "    def forward(self, x):\n",
        "        x = self.lin1(x)\n",
        "        x = F.sigmoid(x)      # Changed activation from tanh to sigmoid for better predictions\n",
        "        x = self.lin2(x)\n",
        "        return x\n",
        "## Model Summary for XOR_Method2\n",
        "model_2 = XOR_method2()\n",
        "print(model_2)\n",
        "from torchsummary import summary\n",
        "summary(model_2, (2,2))"
      ],
      "outputs": [
        {
          "output_type": "stream",
          "name": "stdout",
          "text": [
            "XOR_method2(\n",
            "  (lin1): Linear(in_features=2, out_features=11, bias=True)\n",
            "  (lin2): Linear(in_features=11, out_features=1, bias=False)\n",
            ")\n",
            "----------------------------------------------------------------\n",
            "        Layer (type)               Output Shape         Param #\n",
            "================================================================\n",
            "            Linear-1                [-1, 2, 11]              33\n",
            "            Linear-2                 [-1, 2, 1]              11\n",
            "================================================================\n",
            "Total params: 44\n",
            "Trainable params: 44\n",
            "Non-trainable params: 0\n",
            "----------------------------------------------------------------\n",
            "Input size (MB): 0.00\n",
            "Forward/backward pass size (MB): 0.00\n",
            "Params size (MB): 0.00\n",
            "Estimated Total Size (MB): 0.00\n",
            "----------------------------------------------------------------\n"
          ]
        },
        {
          "output_type": "stream",
          "name": "stderr",
          "text": [
            "/usr/local/lib/python3.7/dist-packages/torch/nn/functional.py:1805: UserWarning: nn.functional.sigmoid is deprecated. Use torch.sigmoid instead.\n",
            "  warnings.warn(\"nn.functional.sigmoid is deprecated. Use torch.sigmoid instead.\")\n"
          ]
        }
      ],
      "metadata": {
        "colab": {
          "base_uri": "https://localhost:8080/"
        },
        "id": "4pDj2RcK7E2Z",
        "outputId": "ec2316aa-fab2-4873-87df-bebe780d9cba"
      }
    },
    {
      "cell_type": "code",
      "execution_count": 17,
      "source": [
        "class XOR_method3(nn.Module):\n",
        "    def __init__(self, input_dim = 2, output_dim=1):\n",
        "        super(XOR_method3, self).__init__()\n",
        "        self.lin1 = nn.Linear(input_dim, 2)\n",
        "        self.lin2 = nn.Linear(2, 2)\n",
        "        self.lin3 = nn.Linear(2, 2)\n",
        "        self.lin4 = nn.Linear(2, 2)\n",
        "        self.lin5 = nn.Linear(2, 2)\n",
        "        self.lin6 = nn.Linear(2, 2)\n",
        "        self.lin7 = nn.Linear(2, 2)\n",
        "        self.lin8 = nn.Linear(2, 2)\n",
        "        \n",
        "\n",
        "        self.lin9 = nn.Linear(2, output_dim, bias = False)\n",
        "    \n",
        "    def forward(self, x):\n",
        "        x = self.lin1(x)\n",
        "        x = F.sigmoid(x)      # Changed activation from tanh to sigmoid for better predictions\n",
        "        x = self.lin3(x)\n",
        "        x = F.sigmoid(x)      # Changed activation from tanh to sigmoid for better predictions\n",
        "        x = self.lin4(x)\n",
        "        x = F.sigmoid(x)      # Changed activation from tanh to sigmoid for better predictions\n",
        "        x = self.lin5(x)\n",
        "        x = F.sigmoid(x)      # Changed activation from tanh to sigmoid for better predictions\n",
        "        x = self.lin6(x)\n",
        "        x = F.sigmoid(x)\n",
        "        x = self.lin7(x)\n",
        "        x = F.sigmoid(x)\n",
        "        x = self.lin8(x)\n",
        "        x = F.sigmoid(x)\n",
        "       \n",
        "        x = self.lin9(x)\n",
        "        \n",
        "    \n",
        "        return x\n",
        "\n",
        "\n",
        "# Model Summary for XOR_Method3\n",
        "model_3 = XOR_method3()\n",
        "print(model_3)\n",
        "from torchsummary import summary\n",
        "summary(model_3, (2,2))"
      ],
      "outputs": [
        {
          "output_type": "stream",
          "name": "stdout",
          "text": [
            "XOR_method3(\n",
            "  (lin1): Linear(in_features=2, out_features=2, bias=True)\n",
            "  (lin2): Linear(in_features=2, out_features=2, bias=True)\n",
            "  (lin3): Linear(in_features=2, out_features=2, bias=True)\n",
            "  (lin4): Linear(in_features=2, out_features=2, bias=True)\n",
            "  (lin5): Linear(in_features=2, out_features=2, bias=True)\n",
            "  (lin6): Linear(in_features=2, out_features=2, bias=True)\n",
            "  (lin7): Linear(in_features=2, out_features=2, bias=True)\n",
            "  (lin8): Linear(in_features=2, out_features=2, bias=True)\n",
            "  (lin9): Linear(in_features=2, out_features=1, bias=False)\n",
            ")\n",
            "----------------------------------------------------------------\n",
            "        Layer (type)               Output Shape         Param #\n",
            "================================================================\n",
            "            Linear-1                 [-1, 2, 2]               6\n",
            "            Linear-2                 [-1, 2, 2]               6\n",
            "            Linear-3                 [-1, 2, 2]               6\n",
            "            Linear-4                 [-1, 2, 2]               6\n",
            "            Linear-5                 [-1, 2, 2]               6\n",
            "            Linear-6                 [-1, 2, 2]               6\n",
            "            Linear-7                 [-1, 2, 2]               6\n",
            "            Linear-8                 [-1, 2, 1]               2\n",
            "================================================================\n",
            "Total params: 44\n",
            "Trainable params: 44\n",
            "Non-trainable params: 0\n",
            "----------------------------------------------------------------\n",
            "Input size (MB): 0.00\n",
            "Forward/backward pass size (MB): 0.00\n",
            "Params size (MB): 0.00\n",
            "Estimated Total Size (MB): 0.00\n",
            "----------------------------------------------------------------\n"
          ]
        },
        {
          "output_type": "stream",
          "name": "stderr",
          "text": [
            "/usr/local/lib/python3.7/dist-packages/torch/nn/functional.py:1805: UserWarning: nn.functional.sigmoid is deprecated. Use torch.sigmoid instead.\n",
            "  warnings.warn(\"nn.functional.sigmoid is deprecated. Use torch.sigmoid instead.\")\n"
          ]
        }
      ],
      "metadata": {
        "colab": {
          "base_uri": "https://localhost:8080/"
        },
        "id": "ejaqJnD57GQg",
        "outputId": "2d8ac570-9808-4a14-9a10-4e4aeb195fc8"
      }
    },
    {
      "cell_type": "code",
      "execution_count": 18,
      "source": [
        "#weight initialization for different models\n",
        "def weights_init(model):\n",
        "    for m in model.modules():\n",
        "        if isinstance(m, nn.Linear):\n",
        "            # initialize the weight tensor, here we use a normal distribution\n",
        "            m.weight.data.normal_(0, 1)\n",
        "\n",
        "weights_init(model_1)\n",
        "weights_init(model_2)\n",
        "weights_init(model_3)"
      ],
      "outputs": [],
      "metadata": {
        "id": "4PlHO0JL7cWw"
      }
    },
    {
      "cell_type": "code",
      "execution_count": 19,
      "source": [
        "loss_func = nn.MSELoss() #nn.L1Loss() # Modified loss function to get better predictions\n",
        "# Modified optimizer from SGD to Adam \n",
        "optimizer_1 = optim.Adam(model_1.parameters(), lr=0.02) #optim.SGD(model_1.parameters(), lr=0.02, momentum=0.9)\n",
        "optimizer_2 = optim.Adam(model_2.parameters(), lr=0.02) #optim.SGD(model_2.parameters(), lr=0.02, momentum=0.9)\n",
        "optimizer_3 = optim.Adam(model_3.parameters(), lr=0.02) #optim.SGD(model_2.parameters(), lr=0.02, momentum=0.9)"
      ],
      "outputs": [],
      "metadata": {
        "id": "_PRf7Fb67def"
      }
    },
    {
      "cell_type": "code",
      "execution_count": 20,
      "source": [
        "#Function to plot the gradient flow for every model\n",
        "def plot_grad_flow(named_parameters):\n",
        "    ave_grads = []\n",
        "    layers = []\n",
        "    for n, p in named_parameters:\n",
        "        if(p.requires_grad) and (\"bias\" not in n):\n",
        "            layers.append(n)\n",
        "            if p.grad == None:\n",
        "              continue\n",
        "            else:\n",
        "              ave_grads.append(p.grad.abs().mean())\n",
        "            \n",
        "    plt.plot(ave_grads, alpha=0.3, color=\"b\")\n",
        "    plt.hlines(0, 0, len(ave_grads)+1, linewidth=1, color=\"k\" )\n",
        "    plt.xticks(range(0,len(ave_grads), 1), layers, rotation=\"vertical\")\n",
        "    plt.xlim(xmin=0, xmax=len(ave_grads))\n",
        "    plt.xlabel(\"Layers\")\n",
        "    plt.ylabel(\"average gradient\")\n",
        "    plt.title(\"Gradient flow\")\n",
        "    plt.grid(True)\n",
        "    return ave_grads"
      ],
      "outputs": [],
      "metadata": {
        "id": "U6hmwZS07oqp"
      }
    },
    {
      "cell_type": "code",
      "execution_count": 21,
      "source": [
        "epochs = 2100          # Number of epochs changed to 2100\n",
        "steps = X.size(0)\n",
        "Loss_method1 = []\n",
        "Loss_method2 = []\n",
        "Loss_method3 = []\n",
        "\n",
        "\n",
        "for i in range(epochs):\n",
        "    for j in range(steps):\n",
        "        data_point = np.random.randint(X.size(0))\n",
        "        x_var = Variable(X[data_point], requires_grad=False)\n",
        "        y_var = Variable(Y[data_point], requires_grad=False)\n",
        "        \n",
        "        ########### Training Method-1 Model ###################################\n",
        "        optimizer_1.zero_grad()\n",
        "        y_hat_1 = model_1(x_var)\n",
        "        loss_1 = loss_func.forward(y_hat_1, y_var)\n",
        "        loss_1.backward()\n",
        "        if i% 100 == 0:\n",
        "          plot_grad_flow(model_1.named_parameters())\n",
        "        optimizer_1.step()\n",
        "\n",
        "    \n",
        "    ## Collecting losses separately for each method\n",
        "    Loss_method1.append(loss_1) \n",
        "    \n",
        "\n",
        "    # Printing out Loss values for every 50 epochs\n",
        "    if i % 50 == 0:\n",
        "        print( \"Epoch: {0}, Loss_method1: {1} \".format(i, loss_1.data.numpy()))"
      ],
      "outputs": [
        {
          "output_type": "stream",
          "name": "stderr",
          "text": [
            "/usr/local/lib/python3.7/dist-packages/torch/nn/functional.py:1805: UserWarning: nn.functional.sigmoid is deprecated. Use torch.sigmoid instead.\n",
            "  warnings.warn(\"nn.functional.sigmoid is deprecated. Use torch.sigmoid instead.\")\n"
          ]
        },
        {
          "output_type": "stream",
          "name": "stdout",
          "text": [
            "Epoch: 0, Loss_method1: 2.5933687686920166 \n",
            "Epoch: 50, Loss_method1: 0.24227242171764374 \n",
            "Epoch: 100, Loss_method1: 0.3096315860748291 \n",
            "Epoch: 150, Loss_method1: 0.20351429283618927 \n",
            "Epoch: 200, Loss_method1: 0.006113769020885229 \n",
            "Epoch: 250, Loss_method1: 1.5663772501284257e-09 \n",
            "Epoch: 300, Loss_method1: 1.4712586704490604e-10 \n",
            "Epoch: 350, Loss_method1: 8.881784197001252e-14 \n",
            "Epoch: 400, Loss_method1: 0.0 \n",
            "Epoch: 450, Loss_method1: 3.552713678800501e-15 \n",
            "Epoch: 500, Loss_method1: 3.552713678800501e-15 \n",
            "Epoch: 550, Loss_method1: 0.0 \n",
            "Epoch: 600, Loss_method1: 3.552713678800501e-15 \n",
            "Epoch: 650, Loss_method1: 8.881784197001252e-16 \n",
            "Epoch: 700, Loss_method1: 0.0 \n",
            "Epoch: 750, Loss_method1: 0.0 \n",
            "Epoch: 800, Loss_method1: 0.0 \n",
            "Epoch: 850, Loss_method1: 0.0 \n",
            "Epoch: 900, Loss_method1: 0.0 \n",
            "Epoch: 950, Loss_method1: 0.0 \n",
            "Epoch: 1000, Loss_method1: 0.0 \n",
            "Epoch: 1050, Loss_method1: 0.0 \n",
            "Epoch: 1100, Loss_method1: 0.0 \n",
            "Epoch: 1150, Loss_method1: 0.0 \n",
            "Epoch: 1200, Loss_method1: 0.0 \n",
            "Epoch: 1250, Loss_method1: 0.0 \n",
            "Epoch: 1300, Loss_method1: 0.0 \n",
            "Epoch: 1350, Loss_method1: 0.0 \n",
            "Epoch: 1400, Loss_method1: 0.0 \n",
            "Epoch: 1450, Loss_method1: 0.0 \n",
            "Epoch: 1500, Loss_method1: 0.0 \n",
            "Epoch: 1550, Loss_method1: 0.0 \n",
            "Epoch: 1600, Loss_method1: 0.0 \n",
            "Epoch: 1650, Loss_method1: 0.0 \n",
            "Epoch: 1700, Loss_method1: 0.0 \n",
            "Epoch: 1750, Loss_method1: 0.0 \n",
            "Epoch: 1800, Loss_method1: 0.0 \n",
            "Epoch: 1850, Loss_method1: 0.0 \n",
            "Epoch: 1900, Loss_method1: 0.0 \n",
            "Epoch: 1950, Loss_method1: 0.0 \n",
            "Epoch: 2000, Loss_method1: 0.0 \n",
            "Epoch: 2050, Loss_method1: 0.0 \n"
          ]
        },
        {
          "output_type": "display_data",
          "data": {
            "image/png": "[encoded data removed]",
            "text/plain": [
              "<Figure size 432x288 with 1 Axes>"
            ]
          },
          "metadata": {
            "needs_background": "light"
          }
        }
      ],
      "metadata": {
        "colab": {
          "base_uri": "https://localhost:8080/",
          "height": 1000
        },
        "id": "ne0WXFTP7pWo",
        "outputId": "42c8b0b6-c14a-4606-931d-66543b02a730"
      }
    },
    {
      "cell_type": "code",
      "execution_count": 22,
      "source": [
        "for i in range(epochs):\n",
        "  for j in range(steps):\n",
        "      data_point = np.random.randint(X.size(0))\n",
        "      x_var = Variable(X[data_point], requires_grad=False)\n",
        "      y_var = Variable(Y[data_point], requires_grad=False)\n",
        "\n",
        "########### Training Method-2 Model ###################################\n",
        "      optimizer_2.zero_grad()\n",
        "      y_hat_2 = model_2(x_var)\n",
        "      loss_2 = loss_func.forward(y_hat_2, y_var)\n",
        "      loss_2.backward()\n",
        "      if i% 100 == 0:\n",
        "        plot_grad_flow(model_2.named_parameters())\n",
        "      optimizer_2.step()   \n",
        "  Loss_method2.append(loss_2)\n",
        "\n",
        "# Printing out Loss values for every 50 epochs\n",
        "  if i % 50 == 0:\n",
        "    print( \"Epoch: {0}, Loss_method2: {1} \".format(i, loss_2.data.numpy()))"
      ],
      "outputs": [
        {
          "output_type": "stream",
          "name": "stderr",
          "text": [
            "/usr/local/lib/python3.7/dist-packages/torch/nn/functional.py:1805: UserWarning: nn.functional.sigmoid is deprecated. Use torch.sigmoid instead.\n",
            "  warnings.warn(\"nn.functional.sigmoid is deprecated. Use torch.sigmoid instead.\")\n"
          ]
        },
        {
          "output_type": "stream",
          "name": "stdout",
          "text": [
            "Epoch: 0, Loss_method2: 0.7533052563667297 \n",
            "Epoch: 50, Loss_method2: 0.03553415462374687 \n",
            "Epoch: 100, Loss_method2: 0.012974229641258717 \n",
            "Epoch: 150, Loss_method2: 2.8212232791702263e-05 \n",
            "Epoch: 200, Loss_method2: 4.7356966348388596e-08 \n",
            "Epoch: 250, Loss_method2: 2.751221472863108e-11 \n",
            "Epoch: 300, Loss_method2: 7.72937269744034e-13 \n",
            "Epoch: 350, Loss_method2: 3.552713678800501e-15 \n",
            "Epoch: 400, Loss_method2: 5.684341886080802e-14 \n",
            "Epoch: 450, Loss_method2: 5.684341886080802e-14 \n",
            "Epoch: 500, Loss_method2: 0.0 \n",
            "Epoch: 550, Loss_method2: 0.0 \n",
            "Epoch: 600, Loss_method2: 0.0 \n",
            "Epoch: 650, Loss_method2: 3.552713678800501e-15 \n",
            "Epoch: 700, Loss_method2: 0.0 \n",
            "Epoch: 750, Loss_method2: 1.4210854715202004e-14 \n",
            "Epoch: 800, Loss_method2: 0.0 \n",
            "Epoch: 850, Loss_method2: 8.881784197001252e-16 \n",
            "Epoch: 900, Loss_method2: 3.552713678800501e-15 \n",
            "Epoch: 950, Loss_method2: 0.0 \n",
            "Epoch: 1000, Loss_method2: 1.4210854715202004e-14 \n",
            "Epoch: 1050, Loss_method2: 0.0 \n",
            "Epoch: 1100, Loss_method2: 7.035261262444692e-12 \n",
            "Epoch: 1150, Loss_method2: 2.9981440547999227e-06 \n",
            "Epoch: 1200, Loss_method2: 0.6688214540481567 \n",
            "Epoch: 1250, Loss_method2: 3.008473470345052e-08 \n",
            "Epoch: 1300, Loss_method2: 9.792167077193881e-14 \n",
            "Epoch: 1350, Loss_method2: 0.0 \n",
            "Epoch: 1400, Loss_method2: 5.551115123125783e-17 \n",
            "Epoch: 1450, Loss_method2: 1.4210854715202004e-14 \n",
            "Epoch: 1500, Loss_method2: 5.551115123125783e-15 \n",
            "Epoch: 1550, Loss_method2: 3.552713678800501e-15 \n",
            "Epoch: 1600, Loss_method2: 0.0 \n",
            "Epoch: 1650, Loss_method2: 0.0 \n",
            "Epoch: 1700, Loss_method2: 0.0 \n",
            "Epoch: 1750, Loss_method2: 0.0 \n",
            "Epoch: 1800, Loss_method2: 0.0 \n",
            "Epoch: 1850, Loss_method2: 0.0 \n",
            "Epoch: 1900, Loss_method2: 0.0 \n",
            "Epoch: 1950, Loss_method2: 0.0 \n",
            "Epoch: 2000, Loss_method2: 0.0 \n",
            "Epoch: 2050, Loss_method2: 0.0 \n"
          ]
        },
        {
          "output_type": "display_data",
          "data": {
            "image/png": "[encoded data removed]",
            "text/plain": [
              "<Figure size 432x288 with 1 Axes>"
            ]
          },
          "metadata": {
            "needs_background": "light"
          }
        }
      ],
      "metadata": {
        "colab": {
          "base_uri": "https://localhost:8080/",
          "height": 1000
        },
        "id": "ihxhhabA7xGB",
        "outputId": "1bd2ae87-1e78-4b38-ea74-29b7b0c88879"
      }
    },
    {
      "cell_type": "code",
      "execution_count": 23,
      "source": [
        "for i in range(epochs):\n",
        "  for j in range(steps):\n",
        "    data_point = np.random.randint(X.size(0))\n",
        "    x_var = Variable(X[data_point], requires_grad=False)\n",
        "    y_var = Variable(Y[data_point], requires_grad=False)\n",
        "\n",
        "    ########### Training Method-3 Model ###################################\n",
        "    optimizer_3.zero_grad()\n",
        "    y_hat_3 = model_3(x_var)\n",
        "    loss_3 = loss_func.forward(y_hat_3, y_var)\n",
        "    loss_3.backward()\n",
        "    if i% 100 == 0:\n",
        "      plot_grad_flow(model_3.named_parameters())\n",
        "    optimizer_3.step()\n",
        "\n",
        "  Loss_method3.append(loss_3)\n",
        "  \n",
        "  # Printing out Loss values for every 50 epochs\n",
        "  if i % 50 == 0:\n",
        "    print( \"Epoch: {0}, Loss_method3: {1} \".format(i, loss_3.data.numpy()))"
      ],
      "outputs": [
        {
          "output_type": "stream",
          "name": "stderr",
          "text": [
            "/usr/local/lib/python3.7/dist-packages/torch/nn/functional.py:1805: UserWarning: nn.functional.sigmoid is deprecated. Use torch.sigmoid instead.\n",
            "  warnings.warn(\"nn.functional.sigmoid is deprecated. Use torch.sigmoid instead.\")\n"
          ]
        },
        {
          "output_type": "stream",
          "name": "stdout",
          "text": [
            "Epoch: 0, Loss_method3: 0.8019593358039856 \n",
            "Epoch: 50, Loss_method3: 0.24687737226486206 \n",
            "Epoch: 100, Loss_method3: 0.12451840937137604 \n",
            "Epoch: 150, Loss_method3: 0.1976800113916397 \n",
            "Epoch: 200, Loss_method3: 0.2612050473690033 \n",
            "Epoch: 250, Loss_method3: 0.17763453722000122 \n",
            "Epoch: 300, Loss_method3: 0.2846819758415222 \n",
            "Epoch: 350, Loss_method3: 0.09275628626346588 \n",
            "Epoch: 400, Loss_method3: 0.31278955936431885 \n",
            "Epoch: 450, Loss_method3: 0.2579317092895508 \n",
            "Epoch: 500, Loss_method3: 0.20325545966625214 \n",
            "Epoch: 550, Loss_method3: 0.16461659967899323 \n",
            "Epoch: 600, Loss_method3: 0.33321744203567505 \n",
            "Epoch: 650, Loss_method3: 0.33993926644325256 \n",
            "Epoch: 700, Loss_method3: 0.2242451012134552 \n",
            "Epoch: 750, Loss_method3: 0.280536413192749 \n",
            "Epoch: 800, Loss_method3: 0.24290259182453156 \n",
            "Epoch: 850, Loss_method3: 0.2831752300262451 \n",
            "Epoch: 900, Loss_method3: 0.35159364342689514 \n",
            "Epoch: 950, Loss_method3: 0.1868775188922882 \n",
            "Epoch: 1000, Loss_method3: 0.221769317984581 \n",
            "Epoch: 1050, Loss_method3: 0.2179223895072937 \n",
            "Epoch: 1100, Loss_method3: 0.254975825548172 \n",
            "Epoch: 1150, Loss_method3: 0.2460521161556244 \n",
            "Epoch: 1200, Loss_method3: 0.25933682918548584 \n",
            "Epoch: 1250, Loss_method3: 0.35603007674217224 \n",
            "Epoch: 1300, Loss_method3: 0.28063642978668213 \n",
            "Epoch: 1350, Loss_method3: 0.3436148464679718 \n",
            "Epoch: 1400, Loss_method3: 0.2799902558326721 \n",
            "Epoch: 1450, Loss_method3: 0.3666600286960602 \n",
            "Epoch: 1500, Loss_method3: 0.21257898211479187 \n",
            "Epoch: 1550, Loss_method3: 0.22484445571899414 \n",
            "Epoch: 1600, Loss_method3: 0.14891983568668365 \n",
            "Epoch: 1650, Loss_method3: 0.18069493770599365 \n",
            "Epoch: 1700, Loss_method3: 0.2567955553531647 \n",
            "Epoch: 1750, Loss_method3: 0.25552889704704285 \n",
            "Epoch: 1800, Loss_method3: 0.29456818103790283 \n",
            "Epoch: 1850, Loss_method3: 0.3872193396091461 \n",
            "Epoch: 1900, Loss_method3: 0.15579953789710999 \n",
            "Epoch: 1950, Loss_method3: 0.14690354466438293 \n",
            "Epoch: 2000, Loss_method3: 0.09254582971334457 \n",
            "Epoch: 2050, Loss_method3: 0.07916316390037537 \n"
          ]
        },
        {
          "output_type": "display_data",
          "data": {
            "image/png": "[encoded data removed]",
            "text/plain": [
              "<Figure size 432x288 with 1 Axes>"
            ]
          },
          "metadata": {
            "needs_background": "light"
          }
        }
      ],
      "metadata": {
        "colab": {
          "base_uri": "https://localhost:8080/",
          "height": 1000
        },
        "id": "g3GOZDoj81RX",
        "outputId": "45584818-d3b7-40df-aa27-7565858c1caa"
      }
    },
    {
      "cell_type": "code",
      "execution_count": 24,
      "source": [
        "# Plotting - Loss Vs Epochs\n",
        "import matplotlib.pyplot as plt\n",
        "plt.rcParams['figure.figsize'] = [20, 5]\n",
        "plt.plot(range(0,2100,50), [x for x in Loss_method1[0::50]],label='Method_1 - 3 Linear Layers')\n",
        "plt.plot(range(0,2100,50), [x for x in Loss_method2[0::50]],label='Method_2 - 2 Linear Layers')\n",
        "plt.plot(range(0,2100,50), [x for x in Loss_method3[0::50]],label='Method_3 - 9 Linear Layers')\n",
        "plt.legend()\n",
        "plt.title(\"Method1-3Linear layers Vs Method2-2Linear Layers Vs Method3-9layers --> Loss Vs Epochs\")\n",
        "plt.xlabel(\"Epochs\")\n",
        "plt.ylabel(\"Loss\")"
      ],
      "outputs": [
        {
          "output_type": "execute_result",
          "data": {
            "text/plain": [
              "Text(0, 0.5, 'Loss')"
            ]
          },
          "metadata": {},
          "execution_count": 24
        },
        {
          "output_type": "display_data",
          "data": {
            "image/png": "[encoded data removed]",
            "text/plain": [
              "<Figure size 1440x360 with 1 Axes>"
            ]
          },
          "metadata": {
            "needs_background": "light"
          }
        }
      ],
      "metadata": {
        "colab": {
          "base_uri": "https://localhost:8080/",
          "height": 367
        },
        "id": "MfxQUchn86uA",
        "outputId": "db76a049-6f57-4d74-af1a-e945027a8a38"
      }
    },
    {
      "cell_type": "code",
      "execution_count": 25,
      "source": [
        "\n",
        "### Predictions ##########################\n",
        "y_hat_method1 = model_1(X)\n",
        "y_hat_method2 = model_2(X)\n",
        "y_hat_method3 = model_3(X)\n",
        "y_hat_method1"
      ],
      "outputs": [
        {
          "output_type": "stream",
          "name": "stderr",
          "text": [
            "/usr/local/lib/python3.7/dist-packages/torch/nn/functional.py:1805: UserWarning: nn.functional.sigmoid is deprecated. Use torch.sigmoid instead.\n",
            "  warnings.warn(\"nn.functional.sigmoid is deprecated. Use torch.sigmoid instead.\")\n"
          ]
        },
        {
          "output_type": "execute_result",
          "data": {
            "text/plain": [
              "tensor([[0.],\n",
              "        [1.],\n",
              "        [1.],\n",
              "        [0.]], grad_fn=<AddmmBackward>)"
            ]
          },
          "metadata": {},
          "execution_count": 25
        }
      ],
      "metadata": {
        "colab": {
          "base_uri": "https://localhost:8080/"
        },
        "id": "r7Vp6_QF9CYQ",
        "outputId": "74b000c1-9762-4500-f478-2d4a1f43c193"
      }
    },
    {
      "cell_type": "code",
      "execution_count": 26,
      "source": [
        "# Final Predictions comparison\n",
        "y_hat_method1_n,y_hat_method2_n,y_hat_method3_n,Y_actual = y_hat_method1.detach().cpu().numpy(),y_hat_method2.detach().cpu().numpy(),y_hat_method3.detach().cpu().numpy(), Y.detach().cpu().numpy() # Detaching to convert to array and send it to Dataframe\n",
        "\n",
        "import pandas as pd\n",
        "predictions_df = pd.DataFrame(data = [Y_actual.reshape(-1), y_hat_method1_n.reshape(-1),y_hat_method2_n.reshape(-1),y_hat_method3_n.reshape(-1)]).T\n",
        "predictions_df.columns=['Y_Actual','Y_method1_predi','Y_method2_predi','Y_method3_predi']\n",
        "predictions_df"
      ],
      "outputs": [
        {
          "output_type": "execute_result",
          "data": {
            "text/html": [
              "<div>\n",
              "<style scoped>\n",
              "    .dataframe tbody tr th:only-of-type {\n",
              "        vertical-align: middle;\n",
              "    }\n",
              "\n",
              "    .dataframe tbody tr th {\n",
              "        vertical-align: top;\n",
              "    }\n",
              "\n",
              "    .dataframe thead th {\n",
              "        text-align: right;\n",
              "    }\n",
              "</style>\n",
              "<table border=\"1\" class=\"dataframe\">\n",
              "  <thead>\n",
              "    <tr style=\"text-align: right;\">\n",
              "      <th></th>\n",
              "      <th>Y_Actual</th>\n",
              "      <th>Y_method1_predi</th>\n",
              "      <th>Y_method2_predi</th>\n",
              "      <th>Y_method3_predi</th>\n",
              "    </tr>\n",
              "  </thead>\n",
              "  <tbody>\n",
              "    <tr>\n",
              "      <th>0</th>\n",
              "      <td>0.0</td>\n",
              "      <td>0.0</td>\n",
              "      <td>-1.192093e-07</td>\n",
              "      <td>-0.040615</td>\n",
              "    </tr>\n",
              "    <tr>\n",
              "      <th>1</th>\n",
              "      <td>1.0</td>\n",
              "      <td>1.0</td>\n",
              "      <td>9.999999e-01</td>\n",
              "      <td>0.570776</td>\n",
              "    </tr>\n",
              "    <tr>\n",
              "      <th>2</th>\n",
              "      <td>1.0</td>\n",
              "      <td>1.0</td>\n",
              "      <td>9.999999e-01</td>\n",
              "      <td>0.570776</td>\n",
              "    </tr>\n",
              "    <tr>\n",
              "      <th>3</th>\n",
              "      <td>0.0</td>\n",
              "      <td>0.0</td>\n",
              "      <td>2.384186e-07</td>\n",
              "      <td>0.570776</td>\n",
              "    </tr>\n",
              "  </tbody>\n",
              "</table>\n",
              "</div>"
            ],
            "text/plain": [
              "   Y_Actual  Y_method1_predi  Y_method2_predi  Y_method3_predi\n",
              "0       0.0              0.0    -1.192093e-07        -0.040615\n",
              "1       1.0              1.0     9.999999e-01         0.570776\n",
              "2       1.0              1.0     9.999999e-01         0.570776\n",
              "3       0.0              0.0     2.384186e-07         0.570776"
            ]
          },
          "metadata": {},
          "execution_count": 26
        }
      ],
      "metadata": {
        "colab": {
          "base_uri": "https://localhost:8080/",
          "height": 172
        },
        "id": "UtbQLnf2S6w1",
        "outputId": "f0ab4761-b1af-48be-a4a7-ec0a7ef87691"
      }
    },
    {
      "cell_type": "markdown",
      "source": [
        "# ***\n",
        "Conclusions\n",
        "\n",
        "Tried out 3 different neural network architectures that meet the total parameter requirement of 44.\n",
        "We have changed\n",
        "A. optimizer from SGD to ADAM,\n",
        "B. loss from L1 loss to MSE,\n",
        "C. Activation function from tanh to Sigmoid.\n",
        "D. Number of epochs from 300 to 2100.\n",
        "E. Removed activation from the last layer of all the networks\n",
        "Model 3 is having most number of layers (9), and observed vanishing gradient issue since for inner layers gradients are zero and but loss is high as well as predictions are bad.\n",
        "\n",
        "Model 1 and Model 2 have better predictions.***"
      ],
      "metadata": {
        "id": "HbTBljGDTFAu"
      }
    }
  ]
}