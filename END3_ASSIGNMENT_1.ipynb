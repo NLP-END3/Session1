{
  "nbformat": 4,
  "nbformat_minor": 0,
  "metadata": {
    "colab": {
      "name": "END3_ASSIGNMENT_1.ipynb",
      "provenance": [],
      "collapsed_sections": [],
      "include_colab_link": true
    },
    "kernelspec": {
      "display_name": "Python 3",
      "language": "python",
      "name": "python3"
    },
    "language_info": {
      "codemirror_mode": {
        "name": "ipython",
        "version": 3
      },
      "file_extension": ".py",
      "mimetype": "text/x-python",
      "name": "python",
      "nbconvert_exporter": "python",
      "pygments_lexer": "ipython3",
      "version": "3.7.4"
    }
  },
  "cells": [
    {
      "cell_type": "markdown",
      "metadata": {
        "id": "view-in-github",
        "colab_type": "text"
      },
      "source": [
        "<a href=\"https://colab.research.google.com/github/NLP-END3/Session1/blob/main/END3_ASSIGNMENT_1.ipynb\" target=\"_parent\"><img src=\"https://colab.research.google.com/assets/colab-badge.svg\" alt=\"Open In Colab\"/></a>"
      ]
    },
    {
      "cell_type": "markdown",
      "metadata": {
        "id": "anlTPdM_csTu"
      },
      "source": [
        "# Coding Assignment\n",
        "\n",
        "## Rewrite the Colab file and:\n",
        "\n",
        "Neural network code for simulating ```XOR Gate```\n",
        "1. remove the last activation function\n",
        "2. make sure there are in total 44 parameters\n",
        "3. run it for 2001 epochs"
      ]
    },
    {
      "cell_type": "markdown",
      "metadata": {
        "id": "eLi7-bCdcsTx"
      },
      "source": [
        "### Importing Libraries"
      ]
    },
    {
      "cell_type": "code",
      "metadata": {
        "colab": {
          "base_uri": "https://localhost:8080/"
        },
        "id": "Ed85i1s1GhO3",
        "outputId": "cbd7d0f1-d0ce-4342-f6d2-87d497f05aa7"
      },
      "source": [
        "import torch\n",
        "from torch.autograd import Variable\n",
        "import torch.nn as nn\n",
        "import torch.nn.functional as F\n",
        "import torch.optim as optim\n",
        "import numpy as np\n",
        "import matplotlib.pyplot as plt\n",
        "%matplotlib inline\n",
        "torch.manual_seed(2)"
      ],
      "execution_count": 38,
      "outputs": [
        {
          "output_type": "execute_result",
          "data": {
            "text/plain": [
              "<torch._C.Generator at 0x7fafb67f36d0>"
            ]
          },
          "metadata": {},
          "execution_count": 38
        }
      ]
    },
    {
      "cell_type": "code",
      "metadata": {
        "colab": {
          "base_uri": "https://localhost:8080/"
        },
        "id": "4T5Vx0uQsWoH",
        "outputId": "50e8ea6d-1120-4c4b-eacf-a4dfe0987bb9"
      },
      "source": [
        "print(torch.__version__)"
      ],
      "execution_count": 39,
      "outputs": [
        {
          "output_type": "stream",
          "name": "stdout",
          "text": [
            "1.9.0+cu102\n"
          ]
        }
      ]
    },
    {
      "cell_type": "markdown",
      "metadata": {
        "id": "YgzxDnokcsT2"
      },
      "source": [
        "### Input & Output Tensors"
      ]
    },
    {
      "cell_type": "code",
      "metadata": {
        "id": "svE5WiswGjPm"
      },
      "source": [
        "X = torch.Tensor([[0,0], [0,1], [1,0], [1,1]])\n",
        "Y = torch.Tensor([0, 1, 1, 0]).view(-1,1)"
      ],
      "execution_count": 40,
      "outputs": []
    },
    {
      "cell_type": "markdown",
      "metadata": {
        "id": "tv1wPhzNcsT4"
      },
      "source": [
        "### XOR_method1\n",
        "\n",
        "1. Total number of layers 3\n",
        "2. Activation function changed from 'tanh' to 'sigmoid'"
      ]
    },
    {
      "cell_type": "code",
      "metadata": {
        "id": "WvuIeGgxGldk"
      },
      "source": [
        "# XOR_method1 : Uses 3 Linear layers to get the total parameters 44, changed activations from \"tanh\" to \"sigmoid\", removed activation from last layer\n",
        "class XOR_method1(nn.Module):\n",
        "    def __init__(self, input_dim = 2, output_dim=1):\n",
        "        super(XOR_method1, self).__init__()\n",
        "        self.lin1 = nn.Linear(input_dim, 5)\n",
        "        self.lin2 = nn.Linear(5, 4)\n",
        "        self.lin3 = nn.Linear(4, output_dim)\n",
        "    \n",
        "    def forward(self, x):\n",
        "        x = self.lin1(x)\n",
        "        x = torch.sigmoid(x)      # Changed activation from tanh to sigmoid for better predictions\n",
        "        x = self.lin2(x)\n",
        "        x = torch.sigmoid(x)\n",
        "        x = self.lin3(x)\n",
        "        return x"
      ],
      "execution_count": 41,
      "outputs": []
    },
    {
      "cell_type": "markdown",
      "metadata": {
        "id": "b3BD2zMrcsT6"
      },
      "source": [
        "### XOR_method2\n",
        "\n",
        "1. Total number of layers 2\n",
        "2. Activation function changed from 'tanh' to 'sigmoid'"
      ]
    },
    {
      "cell_type": "code",
      "metadata": {
        "id": "CekqgkguGou4"
      },
      "source": [
        "# XOR_method2 : Uses 2 Linear layers to get the total parameters 44, changed activations from \"tanh\" to \"sigmoid\", removed activation from last layer\n",
        "class XOR_method2(nn.Module):\n",
        "    def __init__(self, input_dim = 2, output_dim=1):\n",
        "        super(XOR_method2, self).__init__()\n",
        "        self.lin1 = nn.Linear(input_dim, 11)\n",
        "        self.lin2 = nn.Linear(11, output_dim, bias = False)\n",
        "    \n",
        "    def forward(self, x):\n",
        "        x = self.lin1(x)\n",
        "        x = torch.sigmoid(x)      # Changed activation from tanh to sigmoid for better predictions\n",
        "        x = self.lin2(x)\n",
        "        return x"
      ],
      "execution_count": 42,
      "outputs": []
    },
    {
      "cell_type": "markdown",
      "metadata": {
        "id": "qsYkJyy_csT9"
      },
      "source": [
        "### XOR_method3\n",
        "\n",
        "1. Total number of layers 9\n",
        "2. Activation function changed from 'tanh' to 'sigmoid'"
      ]
    },
    {
      "cell_type": "code",
      "metadata": {
        "id": "_TdktUMeXTCQ"
      },
      "source": [
        "class XOR_method3(nn.Module):\n",
        "    def __init__(self, input_dim = 2, output_dim=1):\n",
        "        super(XOR_method3, self).__init__()\n",
        "        self.lin1 = nn.Linear(input_dim, 2)\n",
        "        self.lin2 = nn.Linear(2, 2)\n",
        "        self.lin3 = nn.Linear(2, 2)\n",
        "        self.lin4 = nn.Linear(2, 2)\n",
        "        self.lin5 = nn.Linear(2, 2)\n",
        "        self.lin6 = nn.Linear(2, 2)\n",
        "        self.lin7 = nn.Linear(2, 2)\n",
        "        self.lin8 = nn.Linear(2, 2)       \n",
        "        self.lin9 = nn.Linear(2, output_dim, bias = False)\n",
        "    \n",
        "    def forward(self, x):\n",
        "        x = self.lin1(x)\n",
        "        x = torch.sigmoid(x)      # Changed activation from tanh to sigmoid for better predictions\n",
        "        x = self.lin3(x)\n",
        "        x = torch.sigmoid(x)      # Changed activation from tanh to sigmoid for better predictions\n",
        "        x = self.lin4(x)\n",
        "        x = torch.sigmoid(x)      # Changed activation from tanh to sigmoid for better predictions\n",
        "        x = self.lin5(x)\n",
        "        x = torch.sigmoid(x)      # Changed activation from tanh to sigmoid for better predictions\n",
        "        x = self.lin6(x)\n",
        "        x = torch.sigmoid(x)\n",
        "        x = self.lin7(x)\n",
        "        x = torch.sigmoid(x)\n",
        "        x = self.lin8(x)\n",
        "        x = torch.sigmoid(x)       \n",
        "        x = self.lin9(x)\n",
        "        \n",
        "    \n",
        "        return x"
      ],
      "execution_count": 43,
      "outputs": []
    },
    {
      "cell_type": "markdown",
      "metadata": {
        "id": "7hTfjM2YcsUA"
      },
      "source": [
        "### XOR_method1 Architecture Summary"
      ]
    },
    {
      "cell_type": "code",
      "metadata": {
        "colab": {
          "base_uri": "https://localhost:8080/"
        },
        "id": "xbLIYkl1Gtet",
        "outputId": "6249be47-3702-4362-b8da-4c1011c802bb"
      },
      "source": [
        "# Model Summary for XOR_Method1\n",
        "model_1 = XOR_method1()\n",
        "print(model_1)\n",
        "from torchsummary import summary\n",
        "summary(model_1, (2,2))"
      ],
      "execution_count": 44,
      "outputs": [
        {
          "output_type": "stream",
          "name": "stdout",
          "text": [
            "XOR_method1(\n",
            "  (lin1): Linear(in_features=2, out_features=5, bias=True)\n",
            "  (lin2): Linear(in_features=5, out_features=4, bias=True)\n",
            "  (lin3): Linear(in_features=4, out_features=1, bias=True)\n",
            ")\n",
            "----------------------------------------------------------------\n",
            "        Layer (type)               Output Shape         Param #\n",
            "================================================================\n",
            "            Linear-1                 [-1, 2, 5]              15\n",
            "            Linear-2                 [-1, 2, 4]              24\n",
            "            Linear-3                 [-1, 2, 1]               5\n",
            "================================================================\n",
            "Total params: 44\n",
            "Trainable params: 44\n",
            "Non-trainable params: 0\n",
            "----------------------------------------------------------------\n",
            "Input size (MB): 0.00\n",
            "Forward/backward pass size (MB): 0.00\n",
            "Params size (MB): 0.00\n",
            "Estimated Total Size (MB): 0.00\n",
            "----------------------------------------------------------------\n"
          ]
        }
      ]
    },
    {
      "cell_type": "markdown",
      "metadata": {
        "id": "Sp-wFLNccsUC"
      },
      "source": [
        "### XOR_method2 Architecture Summary"
      ]
    },
    {
      "cell_type": "code",
      "metadata": {
        "colab": {
          "base_uri": "https://localhost:8080/"
        },
        "id": "uXrjlX-_GwJj",
        "outputId": "6042fce8-97f8-47ae-df7e-940e12398fcf"
      },
      "source": [
        "## Model Summary for XOR_Method2\n",
        "model_2 = XOR_method2()\n",
        "print(model_2)\n",
        "from torchsummary import summary\n",
        "summary(model_2, (2,2))"
      ],
      "execution_count": 45,
      "outputs": [
        {
          "output_type": "stream",
          "name": "stdout",
          "text": [
            "XOR_method2(\n",
            "  (lin1): Linear(in_features=2, out_features=11, bias=True)\n",
            "  (lin2): Linear(in_features=11, out_features=1, bias=False)\n",
            ")\n",
            "----------------------------------------------------------------\n",
            "        Layer (type)               Output Shape         Param #\n",
            "================================================================\n",
            "            Linear-1                [-1, 2, 11]              33\n",
            "            Linear-2                 [-1, 2, 1]              11\n",
            "================================================================\n",
            "Total params: 44\n",
            "Trainable params: 44\n",
            "Non-trainable params: 0\n",
            "----------------------------------------------------------------\n",
            "Input size (MB): 0.00\n",
            "Forward/backward pass size (MB): 0.00\n",
            "Params size (MB): 0.00\n",
            "Estimated Total Size (MB): 0.00\n",
            "----------------------------------------------------------------\n"
          ]
        }
      ]
    },
    {
      "cell_type": "markdown",
      "metadata": {
        "id": "9k58Y5S4csUD"
      },
      "source": [
        "### XOR_method3 Architecture Summary"
      ]
    },
    {
      "cell_type": "code",
      "metadata": {
        "colab": {
          "base_uri": "https://localhost:8080/"
        },
        "id": "D1rN-w_QCgIP",
        "outputId": "d169773f-9033-4efb-a236-a98b291fc0b9"
      },
      "source": [
        "# Model Summary for XOR_Method3\n",
        "model_3 = XOR_method3()\n",
        "print(model_3)\n",
        "from torchsummary import summary\n",
        "summary(model_3, (2,2))"
      ],
      "execution_count": 46,
      "outputs": [
        {
          "output_type": "stream",
          "name": "stdout",
          "text": [
            "XOR_method3(\n",
            "  (lin1): Linear(in_features=2, out_features=2, bias=True)\n",
            "  (lin2): Linear(in_features=2, out_features=2, bias=True)\n",
            "  (lin3): Linear(in_features=2, out_features=2, bias=True)\n",
            "  (lin4): Linear(in_features=2, out_features=2, bias=True)\n",
            "  (lin5): Linear(in_features=2, out_features=2, bias=True)\n",
            "  (lin6): Linear(in_features=2, out_features=2, bias=True)\n",
            "  (lin7): Linear(in_features=2, out_features=2, bias=True)\n",
            "  (lin8): Linear(in_features=2, out_features=2, bias=True)\n",
            "  (lin9): Linear(in_features=2, out_features=1, bias=False)\n",
            ")\n",
            "----------------------------------------------------------------\n",
            "        Layer (type)               Output Shape         Param #\n",
            "================================================================\n",
            "            Linear-1                 [-1, 2, 2]               6\n",
            "            Linear-2                 [-1, 2, 2]               6\n",
            "            Linear-3                 [-1, 2, 2]               6\n",
            "            Linear-4                 [-1, 2, 2]               6\n",
            "            Linear-5                 [-1, 2, 2]               6\n",
            "            Linear-6                 [-1, 2, 2]               6\n",
            "            Linear-7                 [-1, 2, 2]               6\n",
            "            Linear-8                 [-1, 2, 1]               2\n",
            "================================================================\n",
            "Total params: 44\n",
            "Trainable params: 44\n",
            "Non-trainable params: 0\n",
            "----------------------------------------------------------------\n",
            "Input size (MB): 0.00\n",
            "Forward/backward pass size (MB): 0.00\n",
            "Params size (MB): 0.00\n",
            "Estimated Total Size (MB): 0.00\n",
            "----------------------------------------------------------------\n"
          ]
        }
      ]
    },
    {
      "cell_type": "markdown",
      "metadata": {
        "id": "AFHHaK2NcsUE"
      },
      "source": [
        "### Initialization of Weights for all the three models"
      ]
    },
    {
      "cell_type": "code",
      "metadata": {
        "id": "DOPgRhofG2wC"
      },
      "source": [
        "#weight initialization for different models\n",
        "def weights_init(model):\n",
        "    for m in model.modules():\n",
        "        if isinstance(m, nn.Linear):\n",
        "            # initialize the weight tensor, here we use a normal distribution\n",
        "            m.weight.data.normal_(0, 1)\n",
        "\n",
        "weights_init(model_1)\n",
        "weights_init(model_2)\n",
        "weights_init(model_3)"
      ],
      "execution_count": 47,
      "outputs": []
    },
    {
      "cell_type": "markdown",
      "metadata": {
        "id": "b3mY70TbcsUF"
      },
      "source": [
        "### Defining Loss Function \n",
        "Loss function changed from ```nn.L1Loss()``` to ```nn.MSELoss()```"
      ]
    },
    {
      "cell_type": "code",
      "metadata": {
        "id": "XOowZMjxG5Ou"
      },
      "source": [
        "loss_func = nn.MSELoss() #nn.L1Loss() # Modified loss function to get better predictions"
      ],
      "execution_count": 48,
      "outputs": []
    },
    {
      "cell_type": "markdown",
      "metadata": {
        "id": "NHKCpbgDcsUG"
      },
      "source": [
        "### Defining Optimizer\n",
        "Optimizer changed from ```SGD``` to ```Adam```"
      ]
    },
    {
      "cell_type": "code",
      "metadata": {
        "id": "Kf30xZnVG8MJ"
      },
      "source": [
        "# Modified optimizer from SGD to Adam \n",
        "optimizer_1 = optim.Adam(model_1.parameters(), lr=0.02) #optim.SGD(model_1.parameters(), lr=0.02, momentum=0.9)\n",
        "optimizer_2 = optim.Adam(model_2.parameters(), lr=0.02) #optim.SGD(model_2.parameters(), lr=0.02, momentum=0.9)\n",
        "optimizer_3 = optim.Adam(model_3.parameters(), lr=0.02) #optim.SGD(model_2.parameters(), lr=0.02, momentum=0.9)"
      ],
      "execution_count": 49,
      "outputs": []
    },
    {
      "cell_type": "markdown",
      "metadata": {
        "id": "symqMBojcsUH"
      },
      "source": [
        "### Function to plot how Gradients flow across layers for all the models\n",
        "1. If Gradients are ```ZERO``` and ```Loss``` value is 0 then we have reached the optimal solution\n",
        "2. If Gradients are ```ZERO``` but ```Loss``` value is higher then we have not reached the optimal solution. This could be a case of a ```Vanishing Gradient Problem ?```"
      ]
    },
    {
      "cell_type": "code",
      "metadata": {
        "id": "-oW7GVCBuH6m"
      },
      "source": [
        "#Function to plot the gradient flow for every model\n",
        "def plot_grad_flow(named_parameters):\n",
        "    ave_grads = []\n",
        "    layers = []\n",
        "    for n, p in named_parameters:\n",
        "        if(p.requires_grad) and (\"bias\" not in n):\n",
        "            layers.append(n)\n",
        "            if p.grad == None:\n",
        "              continue\n",
        "            else:\n",
        "              ave_grads.append(p.grad.abs().mean())\n",
        "            \n",
        "    plt.plot(ave_grads, alpha=0.3, color=\"b\")\n",
        "    plt.hlines(0, 0, len(ave_grads)+1, linewidth=1, color=\"k\" )\n",
        "    plt.xticks(range(0,len(ave_grads), 1), layers, rotation=\"vertical\")\n",
        "    plt.xlim(xmin=0, xmax=len(ave_grads))\n",
        "    plt.xlabel(\"Layers\")\n",
        "    plt.ylabel(\"average gradient\")\n",
        "    plt.title(\"Gradient flow\")\n",
        "    plt.grid(True)\n",
        "    return ave_grads"
      ],
      "execution_count": 50,
      "outputs": []
    },
    {
      "cell_type": "markdown",
      "metadata": {
        "id": "Bf2jpSgKcsUI"
      },
      "source": [
        "### Training XOR_method1 model"
      ]
    },
    {
      "cell_type": "code",
      "metadata": {
        "colab": {
          "base_uri": "https://localhost:8080/",
          "height": 1000
        },
        "id": "MxYRhBFwG-_y",
        "outputId": "cecbf2a8-f884-4d81-e9f8-64c8bd738b37"
      },
      "source": [
        "epochs = 2001          # Number of epochs changed to 2001\n",
        "steps = X.size(0)\n",
        "Loss_method1 = []\n",
        "Loss_method2 = []\n",
        "Loss_method3 = []\n",
        "\n",
        "\n",
        "for i in range(epochs):\n",
        "    for j in range(steps):\n",
        "        data_point = np.random.randint(X.size(0))\n",
        "        x_var = Variable(X[data_point], requires_grad=False)\n",
        "        y_var = Variable(Y[data_point], requires_grad=False)\n",
        "        \n",
        "        ########### Training Method-1 Model ###################################\n",
        "        optimizer_1.zero_grad()\n",
        "        y_hat_1 = model_1(x_var)\n",
        "        loss_1 = loss_func.forward(y_hat_1, y_var)\n",
        "        loss_1.backward()\n",
        "        if i% 100 == 0:\n",
        "          plot_grad_flow(model_1.named_parameters())\n",
        "        optimizer_1.step()\n",
        "\n",
        "    \n",
        "    ## Collecting losses separately for each method\n",
        "    Loss_method1.append(loss_1) \n",
        "    \n",
        "\n",
        "    # Printing out Loss values for every 50 epochs\n",
        "    if i % 50 == 0:\n",
        "        print( \"Epoch: {0}, Loss_method1: {1} \".format(i, loss_1.data.numpy()))"
      ],
      "execution_count": 51,
      "outputs": [
        {
          "output_type": "stream",
          "name": "stdout",
          "text": [
            "Epoch: 0, Loss_method1: 0.008768348954617977 \n",
            "Epoch: 50, Loss_method1: 0.2531471848487854 \n",
            "Epoch: 100, Loss_method1: 0.6516600847244263 \n",
            "Epoch: 150, Loss_method1: 0.1678282618522644 \n",
            "Epoch: 200, Loss_method1: 0.01744687929749489 \n",
            "Epoch: 250, Loss_method1: 0.0013998686335980892 \n",
            "Epoch: 300, Loss_method1: 3.4401989523757948e-06 \n",
            "Epoch: 350, Loss_method1: 2.118732140843349e-07 \n",
            "Epoch: 400, Loss_method1: 1.0746958878371515e-11 \n",
            "Epoch: 450, Loss_method1: 1.2789769243681803e-13 \n",
            "Epoch: 500, Loss_method1: 3.552713678800501e-13 \n",
            "Epoch: 550, Loss_method1: 3.552713678800501e-15 \n",
            "Epoch: 600, Loss_method1: 3.197442310920451e-14 \n",
            "Epoch: 650, Loss_method1: 3.552713678800501e-15 \n",
            "Epoch: 700, Loss_method1: 3.552713678800501e-15 \n",
            "Epoch: 750, Loss_method1: 3.552713678800501e-15 \n",
            "Epoch: 800, Loss_method1: 3.552713678800501e-15 \n",
            "Epoch: 850, Loss_method1: 0.0 \n",
            "Epoch: 900, Loss_method1: 0.0 \n",
            "Epoch: 950, Loss_method1: 0.0 \n",
            "Epoch: 1000, Loss_method1: 0.0 \n",
            "Epoch: 1050, Loss_method1: 0.0 \n",
            "Epoch: 1100, Loss_method1: 0.0 \n",
            "Epoch: 1150, Loss_method1: 0.0 \n",
            "Epoch: 1200, Loss_method1: 0.0 \n",
            "Epoch: 1250, Loss_method1: 0.0 \n",
            "Epoch: 1300, Loss_method1: 0.0 \n",
            "Epoch: 1350, Loss_method1: 0.0 \n",
            "Epoch: 1400, Loss_method1: 0.0 \n",
            "Epoch: 1450, Loss_method1: 0.0 \n",
            "Epoch: 1500, Loss_method1: 0.0 \n",
            "Epoch: 1550, Loss_method1: 0.0 \n",
            "Epoch: 1600, Loss_method1: 0.0 \n",
            "Epoch: 1650, Loss_method1: 0.0 \n",
            "Epoch: 1700, Loss_method1: 0.0 \n",
            "Epoch: 1750, Loss_method1: 0.0 \n",
            "Epoch: 1800, Loss_method1: 0.0 \n",
            "Epoch: 1850, Loss_method1: 0.0 \n",
            "Epoch: 1900, Loss_method1: 0.0 \n",
            "Epoch: 1950, Loss_method1: 0.0 \n",
            "Epoch: 2000, Loss_method1: 0.0 \n"
          ]
        },
        {
          "output_type": "display_data",
          "data": {
            "image/png": "[encoded data removed]",
            "text/plain": [
              "<Figure size 432x288 with 1 Axes>"
            ]
          },
          "metadata": {
            "needs_background": "light"
          }
        }
      ]
    },
    {
      "cell_type": "markdown",
      "metadata": {
        "id": "IVpGCJ1DcsUJ"
      },
      "source": [
        "### Training XOR_method2 model"
      ]
    },
    {
      "cell_type": "code",
      "metadata": {
        "colab": {
          "base_uri": "https://localhost:8080/",
          "height": 1000
        },
        "id": "ASl0JBO3HIsL",
        "outputId": "fe7d9e95-7d32-46e9-d0ad-5a85c11da077"
      },
      "source": [
        "for i in range(epochs):\n",
        "  for j in range(steps):\n",
        "      data_point = np.random.randint(X.size(0))\n",
        "      x_var = Variable(X[data_point], requires_grad=False)\n",
        "      y_var = Variable(Y[data_point], requires_grad=False)\n",
        "\n",
        "########### Training Method-2 Model ###################################\n",
        "      optimizer_2.zero_grad()\n",
        "      y_hat_2 = model_2(x_var)\n",
        "      loss_2 = loss_func.forward(y_hat_2, y_var)\n",
        "      loss_2.backward()\n",
        "      if i% 100 == 0:\n",
        "        plot_grad_flow(model_2.named_parameters())\n",
        "      optimizer_2.step()   \n",
        "  Loss_method2.append(loss_2)\n",
        "\n",
        "# Printing out Loss values for every 50 epochs\n",
        "  if i % 50 == 0:\n",
        "    print( \"Epoch: {0}, Loss_method2: {1} \".format(i, loss_2.data.numpy()))"
      ],
      "execution_count": 52,
      "outputs": [
        {
          "output_type": "stream",
          "name": "stdout",
          "text": [
            "Epoch: 0, Loss_method2: 0.042391009628772736 \n",
            "Epoch: 50, Loss_method2: 0.027539778500795364 \n",
            "Epoch: 100, Loss_method2: 0.030271030962467194 \n",
            "Epoch: 150, Loss_method2: 5.4666401410941035e-05 \n",
            "Epoch: 200, Loss_method2: 2.1304279016476357e-06 \n",
            "Epoch: 250, Loss_method2: 3.688999328232967e-09 \n",
            "Epoch: 300, Loss_method2: 5.684341886080802e-14 \n",
            "Epoch: 350, Loss_method2: 3.197442310920451e-14 \n",
            "Epoch: 400, Loss_method2: 1.4210854715202004e-14 \n",
            "Epoch: 450, Loss_method2: 5.684341886080802e-14 \n",
            "Epoch: 500, Loss_method2: 3.552713678800501e-15 \n",
            "Epoch: 550, Loss_method2: 1.2490009027033011e-14 \n",
            "Epoch: 600, Loss_method2: 2.220446049250313e-16 \n",
            "Epoch: 650, Loss_method2: 5.551115123125783e-15 \n",
            "Epoch: 700, Loss_method2: 0.0 \n",
            "Epoch: 750, Loss_method2: 0.0 \n",
            "Epoch: 800, Loss_method2: 5.551115123125783e-17 \n",
            "Epoch: 850, Loss_method2: 0.0 \n",
            "Epoch: 900, Loss_method2: 2.220446049250313e-16 \n",
            "Epoch: 950, Loss_method2: 2.220446049250313e-16 \n",
            "Epoch: 1000, Loss_method2: 0.0 \n",
            "Epoch: 1050, Loss_method2: 0.0 \n",
            "Epoch: 1100, Loss_method2: 0.0 \n",
            "Epoch: 1150, Loss_method2: 0.0 \n",
            "Epoch: 1200, Loss_method2: 8.881784197001252e-16 \n",
            "Epoch: 1250, Loss_method2: 3.552713678800501e-15 \n",
            "Epoch: 1300, Loss_method2: 7.264760881753318e-08 \n",
            "Epoch: 1350, Loss_method2: 1.6537192948362645e-08 \n",
            "Epoch: 1400, Loss_method2: 5.48867490124394e-07 \n",
            "Epoch: 1450, Loss_method2: 2.2737367544323206e-13 \n",
            "Epoch: 1500, Loss_method2: 7.993605777301127e-15 \n",
            "Epoch: 1550, Loss_method2: 0.0 \n",
            "Epoch: 1600, Loss_method2: 2.220446049250313e-16 \n",
            "Epoch: 1650, Loss_method2: 2.220446049250313e-16 \n",
            "Epoch: 1700, Loss_method2: 0.0 \n",
            "Epoch: 1750, Loss_method2: 0.0 \n",
            "Epoch: 1800, Loss_method2: 0.0 \n",
            "Epoch: 1850, Loss_method2: 0.0 \n",
            "Epoch: 1900, Loss_method2: 0.0 \n",
            "Epoch: 1950, Loss_method2: 0.0 \n",
            "Epoch: 2000, Loss_method2: 0.0 \n"
          ]
        },
        {
          "output_type": "display_data",
          "data": {
            "image/png": "[encoded data removed]",
            "text/plain": [
              "<Figure size 432x288 with 1 Axes>"
            ]
          },
          "metadata": {
            "needs_background": "light"
          }
        }
      ]
    },
    {
      "cell_type": "markdown",
      "metadata": {
        "id": "jd4t8mAAcsUK"
      },
      "source": [
        "### Training XOR_method3 model"
      ]
    },
    {
      "cell_type": "code",
      "metadata": {
        "colab": {
          "base_uri": "https://localhost:8080/",
          "height": 1000
        },
        "id": "LiVyZSqyHIu7",
        "outputId": "a60dda09-26e9-4bc6-e25c-6d6ae0720e7f"
      },
      "source": [
        "for i in range(epochs):\n",
        "  for j in range(steps):\n",
        "    data_point = np.random.randint(X.size(0))\n",
        "    x_var = Variable(X[data_point], requires_grad=False)\n",
        "    y_var = Variable(Y[data_point], requires_grad=False)\n",
        "\n",
        "    ########### Training Method-3 Model ###################################\n",
        "    optimizer_3.zero_grad()\n",
        "    y_hat_3 = model_3(x_var)\n",
        "    loss_3 = loss_func.forward(y_hat_3, y_var)\n",
        "    loss_3.backward()\n",
        "    if i% 100 == 0:\n",
        "      plot_grad_flow(model_3.named_parameters())\n",
        "    optimizer_3.step()\n",
        "\n",
        "  Loss_method3.append(loss_3)\n",
        "  \n",
        "  # Printing out Loss values for every 50 epochs\n",
        "  if i % 50 == 0:\n",
        "    print( \"Epoch: {0}, Loss_method3: {1} \".format(i, loss_3.data.numpy()))"
      ],
      "execution_count": 53,
      "outputs": [
        {
          "output_type": "stream",
          "name": "stdout",
          "text": [
            "Epoch: 0, Loss_method3: 0.008083556778728962 \n",
            "Epoch: 50, Loss_method3: 0.15038827061653137 \n",
            "Epoch: 100, Loss_method3: 0.2004985362291336 \n",
            "Epoch: 150, Loss_method3: 0.2591009736061096 \n",
            "Epoch: 200, Loss_method3: 0.12396267056465149 \n",
            "Epoch: 250, Loss_method3: 0.2451823502779007 \n",
            "Epoch: 300, Loss_method3: 0.41625189781188965 \n",
            "Epoch: 350, Loss_method3: 0.03345383331179619 \n",
            "Epoch: 400, Loss_method3: 0.43134525418281555 \n",
            "Epoch: 450, Loss_method3: 0.07627514749765396 \n",
            "Epoch: 500, Loss_method3: 0.1595403105020523 \n",
            "Epoch: 550, Loss_method3: 0.18415236473083496 \n",
            "Epoch: 600, Loss_method3: 0.46850767731666565 \n",
            "Epoch: 650, Loss_method3: 0.05511639267206192 \n",
            "Epoch: 700, Loss_method3: 0.13796687126159668 \n",
            "Epoch: 750, Loss_method3: 0.0008363766828551888 \n",
            "Epoch: 800, Loss_method3: 0.24802576005458832 \n",
            "Epoch: 850, Loss_method3: 0.5490434765815735 \n",
            "Epoch: 900, Loss_method3: 0.1344521939754486 \n",
            "Epoch: 950, Loss_method3: 0.7457098364830017 \n",
            "Epoch: 1000, Loss_method3: 0.06955944746732712 \n",
            "Epoch: 1050, Loss_method3: 6.311428296612576e-05 \n",
            "Epoch: 1100, Loss_method3: 0.4437502324581146 \n",
            "Epoch: 1150, Loss_method3: 0.25453707575798035 \n",
            "Epoch: 1200, Loss_method3: 0.10690698772668839 \n",
            "Epoch: 1250, Loss_method3: 0.21928143501281738 \n",
            "Epoch: 1300, Loss_method3: 0.1298651546239853 \n",
            "Epoch: 1350, Loss_method3: 0.10357414931058884 \n",
            "Epoch: 1400, Loss_method3: 0.0422719344496727 \n",
            "Epoch: 1450, Loss_method3: 0.12230303883552551 \n",
            "Epoch: 1500, Loss_method3: 0.04300636425614357 \n",
            "Epoch: 1550, Loss_method3: 0.09777940809726715 \n",
            "Epoch: 1600, Loss_method3: 0.6506297588348389 \n",
            "Epoch: 1650, Loss_method3: 0.00011687250662362203 \n",
            "Epoch: 1700, Loss_method3: 0.13398100435733795 \n",
            "Epoch: 1750, Loss_method3: 0.16926802694797516 \n",
            "Epoch: 1800, Loss_method3: 6.967422905290732e-07 \n",
            "Epoch: 1850, Loss_method3: 1.9649494788609445e-05 \n",
            "Epoch: 1900, Loss_method3: 0.41865769028663635 \n",
            "Epoch: 1950, Loss_method3: 0.09724165499210358 \n",
            "Epoch: 2000, Loss_method3: 0.09817545861005783 \n"
          ]
        },
        {
          "output_type": "display_data",
          "data": {
            "image/png": "[encoded data removed]",
            "text/plain": [
              "<Figure size 432x288 with 1 Axes>"
            ]
          },
          "metadata": {
            "needs_background": "light"
          }
        }
      ]
    },
    {
      "cell_type": "markdown",
      "metadata": {
        "id": "gbiwz_9GcsUK"
      },
      "source": [
        "### Comparision of different XOR Models - Loss Vs Epochs"
      ]
    },
    {
      "cell_type": "code",
      "metadata": {
        "colab": {
          "base_uri": "https://localhost:8080/",
          "height": 367
        },
        "id": "IMyzz3XqICv_",
        "outputId": "547269a9-f832-4396-ac05-752610c45e93"
      },
      "source": [
        "# Plotting - Loss Vs Epochs\n",
        "import matplotlib.pyplot as plt\n",
        "plt.rcParams['figure.figsize'] = [20, 5]\n",
        "plt.plot(range(0,2001,50), [x for x in Loss_method1[0::50]],label='Method_1 - 3 Linear Layers')\n",
        "plt.plot(range(0,2001,50), [x for x in Loss_method2[0::50]],label='Method_2 - 2 Linear Layers')\n",
        "plt.plot(range(0,2001,50), [x for x in Loss_method3[0::50]],label='Method_3 - 9 Linear Layers')\n",
        "plt.legend()\n",
        "plt.title(\"Method1-3Linear layers Vs Method2-2Linear Layers Vs Method3-9layers --> Loss Vs Epochs\")\n",
        "plt.xlabel(\"Epochs\")\n",
        "plt.ylabel(\"Loss\")"
      ],
      "execution_count": 54,
      "outputs": [
        {
          "output_type": "execute_result",
          "data": {
            "text/plain": [
              "Text(0, 0.5, 'Loss')"
            ]
          },
          "metadata": {},
          "execution_count": 54
        },
        {
          "output_type": "display_data",
          "data": {
            "image/png": "[encoded data removed]",
            "text/plain": [
              "<Figure size 1440x360 with 1 Axes>"
            ]
          },
          "metadata": {
            "needs_background": "light"
          }
        }
      ]
    },
    {
      "cell_type": "code",
      "metadata": {
        "colab": {
          "base_uri": "https://localhost:8080/"
        },
        "id": "Wxn6fu96IIiR",
        "outputId": "87a3f61c-fafc-4d16-98ac-bd3b6c95653f"
      },
      "source": [
        "### Predictions ##########################\n",
        "y_hat_method1 = model_1(X)\n",
        "y_hat_method2 = model_2(X)\n",
        "y_hat_method3 = model_3(X)\n",
        "y_hat_method1"
      ],
      "execution_count": 55,
      "outputs": [
        {
          "output_type": "execute_result",
          "data": {
            "text/plain": [
              "tensor([[0.0000],\n",
              "        [1.0000],\n",
              "        [1.0000],\n",
              "        [0.0000]], grad_fn=<AddmmBackward>)"
            ]
          },
          "metadata": {},
          "execution_count": 55
        }
      ]
    },
    {
      "cell_type": "code",
      "metadata": {
        "colab": {
          "base_uri": "https://localhost:8080/"
        },
        "id": "UB4U1gVJIO5i",
        "outputId": "688ecd7f-8611-4fa3-f77c-5ef81a3c96a1"
      },
      "source": [
        "y_hat_method3"
      ],
      "execution_count": 56,
      "outputs": [
        {
          "output_type": "execute_result",
          "data": {
            "text/plain": [
              "tensor([[0.0094],\n",
              "        [0.6944],\n",
              "        [0.6944],\n",
              "        [0.6944]], grad_fn=<MmBackward>)"
            ]
          },
          "metadata": {},
          "execution_count": 56
        }
      ]
    },
    {
      "cell_type": "markdown",
      "metadata": {
        "id": "567el_dfcsUN"
      },
      "source": [
        "### Comparision of Neural Network models predictions with Actual Values"
      ]
    },
    {
      "cell_type": "code",
      "metadata": {
        "colab": {
          "base_uri": "https://localhost:8080/",
          "height": 173
        },
        "id": "p8PdaI2CIRpL",
        "outputId": "36b3cfb9-2947-4f6c-d3e1-8bbde62f6a4f"
      },
      "source": [
        "# Final Predictions comparison\n",
        "y_hat_method1_n,y_hat_method2_n,y_hat_method3_n,Y_actual = y_hat_method1.detach().cpu().numpy(),y_hat_method2.detach().cpu().numpy(),y_hat_method3.detach().cpu().numpy(), Y.detach().cpu().numpy() # Detaching to convert to array and send it to Dataframe\n",
        "\n",
        "import pandas as pd\n",
        "predictions_df = pd.DataFrame(data = [Y_actual.reshape(-1), y_hat_method1_n.reshape(-1),y_hat_method2_n.reshape(-1),y_hat_method3_n.reshape(-1)]).T\n",
        "predictions_df.columns=['Y_Actual','Y_method1_predi','Y_method2_predi','Y_method3_predi']\n",
        "predictions_df"
      ],
      "execution_count": 57,
      "outputs": [
        {
          "output_type": "execute_result",
          "data": {
            "text/html": [
              "<div>\n",
              "<style scoped>\n",
              "    .dataframe tbody tr th:only-of-type {\n",
              "        vertical-align: middle;\n",
              "    }\n",
              "\n",
              "    .dataframe tbody tr th {\n",
              "        vertical-align: top;\n",
              "    }\n",
              "\n",
              "    .dataframe thead th {\n",
              "        text-align: right;\n",
              "    }\n",
              "</style>\n",
              "<table border=\"1\" class=\"dataframe\">\n",
              "  <thead>\n",
              "    <tr style=\"text-align: right;\">\n",
              "      <th></th>\n",
              "      <th>Y_Actual</th>\n",
              "      <th>Y_method1_predi</th>\n",
              "      <th>Y_method2_predi</th>\n",
              "      <th>Y_method3_predi</th>\n",
              "    </tr>\n",
              "  </thead>\n",
              "  <tbody>\n",
              "    <tr>\n",
              "      <th>0</th>\n",
              "      <td>0.0</td>\n",
              "      <td>0.0</td>\n",
              "      <td>0.0</td>\n",
              "      <td>0.009390</td>\n",
              "    </tr>\n",
              "    <tr>\n",
              "      <th>1</th>\n",
              "      <td>1.0</td>\n",
              "      <td>1.0</td>\n",
              "      <td>1.0</td>\n",
              "      <td>0.694433</td>\n",
              "    </tr>\n",
              "    <tr>\n",
              "      <th>2</th>\n",
              "      <td>1.0</td>\n",
              "      <td>1.0</td>\n",
              "      <td>1.0</td>\n",
              "      <td>0.694433</td>\n",
              "    </tr>\n",
              "    <tr>\n",
              "      <th>3</th>\n",
              "      <td>0.0</td>\n",
              "      <td>0.0</td>\n",
              "      <td>0.0</td>\n",
              "      <td>0.694433</td>\n",
              "    </tr>\n",
              "  </tbody>\n",
              "</table>\n",
              "</div>"
            ],
            "text/plain": [
              "   Y_Actual  Y_method1_predi  Y_method2_predi  Y_method3_predi\n",
              "0       0.0              0.0              0.0         0.009390\n",
              "1       1.0              1.0              1.0         0.694433\n",
              "2       1.0              1.0              1.0         0.694433\n",
              "3       0.0              0.0              0.0         0.694433"
            ]
          },
          "metadata": {},
          "execution_count": 57
        }
      ]
    },
    {
      "cell_type": "markdown",
      "metadata": {
        "id": "els1zg7QoHvA"
      },
      "source": [
        "## **Conclusions**\n",
        "1. Tried out 3 different neural network architectures that meet the total parameter requirement of 44.\n",
        "2. We have changed \n",
        "    * A. optimizer from SGD to ADAM, \n",
        "    * B. loss from L1 loss to MSE,\n",
        "    * C. Activation function from tanh to Sigmoid.\n",
        "    * D. Number of epochs from 300 to 2001.\n",
        "    * E. Removed activation from the last layer of all the networks\n",
        "3. Model 3 is having most number of layers (9), and observed *vanishing gradient* issue since for inner layers gradients are zero and but loss is high as well as predictions are bad.\n",
        "\n",
        "4. Model 1 and Model 2 have better predictions.\n",
        "\n"
      ]
    }
  ]
}